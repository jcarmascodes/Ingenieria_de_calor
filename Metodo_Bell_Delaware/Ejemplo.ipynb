{
 "cells": [
  {
   "cell_type": "markdown",
   "metadata": {},
   "source": [
    "# Método de Bell Delaware\n",
    "\n",
    "## Formulas\n",
    "\n",
    "### Cálculo de la diferencia de temperatura media logaritmica\n",
    "\n",
    "$$\n",
    "DMTL = \\frac{\\Delta T_{1} - \\Delta T_{2}}{Ln\\frac{\\Delta T_{1}}{\\Delta T_{2}}} \\tag{1}\n",
    "$$\n",
    "\n",
    "Sindo\n",
    "\n",
    "$\\Delta T_{1} = T_{1} - t_{2}$\n",
    "\n",
    "$\\Delta T_{2} = T_{2} - t_{1}$\n",
    "\n",
    "### Cálculo del factor de correción de temperatura \n",
    "\n",
    "$$\n",
    "R = \\frac{T_{1} - T_{2}}{t_{2} - t_{1}} \\tag{2}\n",
    "$$\n",
    "\n",
    "$$\n",
    "S = \\frac{t_{2} - t_{1}}{T_{1} - t_{1}} \\tag{3}\n",
    "$$\n",
    "\n",
    "$$\n",
    "DTML_{c} = DMTL \\cdot FT \\tag{4}\n",
    "$$\n",
    "\n",
    "### Cálculo del área total de transferencia de calor\n",
    "\n",
    "$$\n",
    "AT = \\frac{Q}{[UD(DTML)_{c}]} \\tag{7}\n",
    "$$\n",
    "\n",
    "$$\n",
    "AS = \\frac{AT}{NCO} \\tag{8}\n",
    "$$\n",
    "\n",
    "### Cálculo del números de tubos\n",
    "\n",
    "$$\n",
    "NT = \\frac{A}{(\\pi(\\frac{do}{12})L)} \\tag{9}\n",
    "$$\n",
    "\n",
    "Se pude modificar la longitud a la longitud a la longitud efectiva, usando L-0.5, en lugar de L.\n",
    "\n",
    "$$\n",
    "NT = \\frac{A}{\\pi(\\frac{do}{12})L-0.5}\n",
    "$$\n",
    "\n",
    "### Calculo del área del intercambiador\n",
    "\n",
    "$$\n",
    "A = \\pi (\\frac{do}{12}L * \\text{No. tubos}) \\tag{10}\n",
    "$$\n",
    "\n",
    "### Calculo del coeficiente global de transferencia de calor de diseño\n",
    "\n",
    "$$\n",
    "UD = \\frac{Q}{(NCO(DTML)_{c}A)} \\tag{11}\n",
    "$$\n",
    "\n",
    "### Calculo del coeficiente de pelicula del lado de la coraza.\n",
    "\n",
    "$$\n",
    "LC = \\frac{L\\cdot D}{100}\n",
    "$$\n",
    "\n",
    "$$\n",
    "NC = \\frac{D(1 - (\\frac{2LC}{D}))}{PP} \\tag{12}\n",
    "$$\n",
    "\n",
    "$$\n",
    "FC = \\frac{1}{\\pi}(\\pi 2(\\frac{D-(2LC)}{DOTL}))Sen(Cos^{-1} \\frac{D-(2LC)}{DOTL})-2Cos^{1}(\\frac{D-(2LC)}{DOTL}) \\tag{13}\n",
    "$$\n",
    "\n",
    "**Donde todos los ángulos estan en radianes.**\n",
    "\n",
    "$$\n",
    "NCW = \\frac{(0.8LC)}{PP} \\tag{14}\n",
    "$$\n",
    "\n",
    "$$\n",
    "NB = \\frac{12L-LSI-LSO}{LS} + 1 \\tag{15}\n",
    "$$\n",
    "\n",
    "Para arreglo cuadrado y cuadrado rotado:\n",
    "    \n",
    "$$\n",
    "SM = LS[D-DOTL+(\\frac{DOTL-do}{PN})(PT-do)] \\tag{16}\n",
    "$$\n",
    "\n",
    "Para arreglo triangular:\n",
    "\n",
    "$$    \n",
    "SM = LS[D-DTOL+(\\frac{DTOL-do}{PT})(PT-do)] \\tag{17}\n",
    "$$\n",
    "\n",
    "$$\n",
    "FSBP = (\\frac{D-DOTL}{SM})LS \\tag{18}\n",
    "$$\n",
    "\n",
    "$$\n",
    "STB = 0.3926NT(1 + FC)(2DTB \\cdot DO + DTB^{2}) \\tag{19}\n",
    "$$\n",
    "\n",
    "$$\n",
    "\\Theta = 2 Cos^-{1} [1-(\\frac{2LC}{D})] \\tag{20}\n",
    "$$\n",
    "\n",
    "Donde el valor del término $COS^{-1}[1 - (\\frac{2LC}{D})]$ está en radianes, entre 0 y $\\pi/2$\n",
    "\n",
    "$$\n",
    "SSB = \\frac{\\pi \\cdot D \\cdot DSB (1 - \\theta/2 \\pi)}{2} \\tag{21}\n",
    "$$\n",
    "\n",
    "$$\n",
    "SW = SWG - SWT \\tag{22}\n",
    "$$\n",
    "\n",
    "El valor de SWG puede ser calculado de:\n",
    "\n",
    "$$\n",
    "SWG = \\frac{D^{2}}{4}[\\frac{\\theta}{2} - (1 - \\frac{2LC}{D}) \\cdot Sen(\\frac{\\theta}{2})] \\tag{23}\n",
    "$$\n",
    "\n",
    "El área ocupa por los tubos, SWT puede ser calculada de:\n",
    "\n",
    "$$\n",
    "SWT = \\frac{NT}{S} (1 - FC) \\cdot \\pi \\cdto DO^{2} \\tag{24}\n",
    "$$\n",
    "\n",
    "$$\n",
    "DW = \\frac{4SW}{\\frac{\\pi}{2} \\cdot NT \\cdot (1 - FC) \\cdot DO + D \\cdot \\theta} \\tag{25}\n",
    "$$\n",
    "\n",
    "$$\n",
    "RES = \\frac{12DO \\cdot WS}{2.42 \\rho S \\cdot SM} \\tag{26}\n",
    "$$\n",
    "\n",
    "$$\n",
    "hO = JI \\cdot CS(\\frac{144 WS}{SM})(\\frac{KS}{CS \\cdot  \\mu S \\cdot 2.42})^{\\frac{2}{3}} (\\frac{\\mu S}{\\mu SW})^{0.14} \\tag{27}\n",
    "$$\n",
    "\n",
    "$$\n",
    "JC = FS + 0.524 (1 - FC)^{0.32}(SM/SW)^{0.03} \\tag{28}\n",
    "$$\n",
    "\n",
    "$$\n",
    "JL = 1 - (1 + \\frac{SSB}{STB + SSB} \\cdot 0.45 (\\frac{STB + SSB}{SM} + 0.1[1 - e^{-30(\\frac{STB}{SSB})}])) \\tag{29}\n",
    "$$\n",
    "\n",
    "$$\n",
    "JB = e^{[-\\alpha \\cdot FSBP(1 - (\\frac{2NSS}{NC})^{\\frac{1}{3}})]} \\tag{30}\n",
    "$$\n",
    "\n",
    "$$\n",
    "JS = \\frac{(NB-1) + (LSI/LS)^{(1-n)} + (LSD/LS)^{(1-n)}}{(NB-1) + (LSI/LS) +(LSD/LS)}  \\tag{31}\n",
    "$$\n",
    "\n",
    "n = 0.6 para flujo turbulento (RES > 100)\n",
    "\n",
    "n = 1/3 para flujo laminar (RES < 100)\n",
    "\n",
    "$$\n",
    "HO = hO \\cdot JC \\cdot JL \\cdot JB \\cdot JR \\cdot JS \\tag{32}\n",
    "$$\n",
    "\n",
    "### Cálculo del coeficiente de película del lado de los tubos\n",
    "\n",
    "$$\n",
    "AT = (\\pi \\cdot \\frac{DI^{2}}{AT}) \\frac{NT}{144 NPT} \\tag{33} \n",
    "$$\n",
    "\n",
    "$$\n",
    "GT = \\frac{WT}{AT} \\tag{34}\n",
    "$$\n",
    "\n",
    "$$\n",
    "VT = \\frac{GT}{3600 \\cdot SGT \\cdot 62.37} \\tag{35}\n",
    "$$\n",
    "\n",
    "$$\n",
    "RET = \\frac{GT \\cdot DI}{12 \\cdot \\mu T \\cdot 2.42} \\tag{36}\n",
    "$$\n",
    "\n",
    "+ Para agua:\n",
    "\n",
    "$$\n",
    "HIO = (\\frac{150}{DI^{0.2}})[1 + (\\frac{0.011(t_{1}+t_{2})}{2})] \\cdot VT^{0.8} (\\frac{DI}{DO}) \\tag{37}\n",
    "$$\n",
    "\n",
    "+ Para otros fluido:\n",
    "\n",
    "$$\n",
    "HIO = 0.027 RET^{0.796} (\\frac{2.42 \\cdot CT \\cdot \\mu T}{KT})^{\\frac{1}{3}} (\\frac{12KT}{DI}) (\\frc{DI}{DO}) \\tag{38}\n",
    "$$\n",
    "\n",
    "### Calculo de la temperatura de la pared\n",
    "\n",
    "+ Para fluido caliente en la coraza\n",
    "\n",
    "$$\n",
    "tW = [\\frac{t_{1} + t_{2}}{2}] + [\\frac{HO}{HIO + HO}][\\frac{T_{1} + T_{2}}{2} - \\frac{t_{1} + t_{2}}{2}] \\tag{39}\n",
    "$$\n",
    "\n",
    "+ Para fluido caliente por el lado de los tubos\n",
    "\n",
    "$$\n",
    "tW = [\\frac{t_{1} + t_{2}}{2}] + [\\frac{HIO}{HIO + HO}][\\frac{T_{1} + T_{2}}{2} - \\frac{t_{1} + t_{2}}{2}] \\tag{40}\n",
    "$$\n",
    "\n",
    "### Cálculo de la caída de presión del lado de la coraza\n",
    "\n",
    "$$\n",
    "\\Delta PBI = {0.69 \\times 10^{-6} \\cdot FSI \\cdot WS^{2} \\cdot NC}{SM^{2} \\cdot 62.37 \\cdot SGS} (\\frac{\\mu SW}{\\rho S}) 0.14 \\tag{41}\n",
    "$$\n",
    "\n",
    "#### La caída de presión para una sección de ventana ideal\n",
    "\n",
    "Si $RES \\geq 100$:\n",
    "\n",
    "$$\n",
    "\\Delta PWI = \\frac{WS^{2}(2+0.6\\cdot NCW) 1.73\\times 10^{-7}}{SM\\cdot SW \\cdot SGS \\cdot 62.37} \\tag{42}\n",
    "$$\n",
    "\n",
    "Si $RES < 100$:\n",
    "\n",
    "$$\n",
    "\\Delta PWI = \\frac{0.75\\times 10^{-6} \\cdot \\mu S \\cdot WS}{SM \\cdot SW \\cdot SGS \\cdot 62.37}[\\frac{NCW}{PT-Do}+\\frac{LS}{DW^{2}}] + \\frac{WS^{2} \\cdot 0.345\\times 10^{-6}}{SM \\cdot SW \\cdot SGS \\cdot 62.37} \\tag{43}\n",
    "$$\n",
    "\n",
    "$$\n",
    "RS = \\frac{1}{2} ((\\frac{LSI}{LS})^{-n} + (\\frac{LSD}{LS})) \\tag{44}\n",
    "$$\n",
    "\n",
    "$n = 1.6$ para un flujo turbulento (RES > 100)\n",
    "\n",
    "$n = 1.0$ para un flujo laminar (RES < 100)\n",
    "\n",
    "$$\n",
    "\\Delta PS = [(NB-1)\\Delta PBI \\cdot RB + NB \\cdot \\Delta PWI]\\cdot RL + [2 \\Delta PBI \\cdot RB (1 + \\frac{NCW}{NC}) RS] \\tag{45}\n",
    "$$\n",
    "\n",
    "### Calculo de la caida de presión del lado de los tubos\n",
    "\n",
    "#### La caída de presión para tramos rectos\n",
    "\n",
    "$$\n",
    "\\Delta PTT = \\frac{0.00273 \\cdot RET^{-0.24895} \\cdot GT^{2}\\cdot L \\cdot NPT \\cdot 12}{(5.22 \\times 10^{10} \\cdot dI \\cdot SGT)(\\frac{\\frac{\\mu T}{\\mu WT}})^{0.14}} \\tag{46}\n",
    "$$\n",
    "\n",
    "#### La caída de presión para retornos\n",
    "\n",
    "$$\n",
    "\\Delta PR_{1} = \\frac{4 GT^{2.0015} \\cdot 1.34248 \\times 10^{-13} \\cdot NPT}{SGT} \\tag{47}\n",
    "$$\n",
    "\n",
    "#### La caída de presión total del lado de los tubos\n",
    "\n",
    "$$\n",
    "\\Delta PT = \\Delta PTT + \\Delta PR \\tag{48}\n",
    "$$\n",
    "\n",
    "### Calculo de la caída el coeficiente global de transferencia de calor limpio\n",
    "\n",
    "$$\n",
    "UC = \\frac{HO \\cdot HIO}{HO + HIO} \\tag{49}\n",
    "$$\n",
    "\n",
    "\n",
    "### Calculo del coeficiente global de transferencia de calor de servicio $U_{O}$, basado en el área de transferencia de calor del lado de la coraza\n",
    "\n",
    "$$\n",
    "U_{O} = \\frac{1}{[(\\frac{1}{HIO}) + (\\frac{1}{HO}) + RIO + RO]} \\tag{50}\n",
    "$$\n",
    "\n",
    "\n",
    "### Calculo del área requerida\n",
    "\n",
    "$$\n",
    "A_{O} = \\frac{Q}{U_{O}(DMTL)_{c}} \\tag{51}\n",
    "$$\n",
    "\n",
    "### Porcientaje de sobrediseño\n",
    "\n",
    "$$\n",
    "\\%SD = (\\frac{A}{A0} - 1) \\cdot 100 \\tag{52}\n",
    "$$"
   ]
  },
  {
   "cell_type": "code",
   "execution_count": null,
   "metadata": {
    "id": "2r7tXBCu-_Hu"
   },
   "outputs": [],
   "source": [
    "from math import *\n",
    "from math import pi"
   ]
  },
  {
   "cell_type": "markdown",
   "metadata": {
    "id": "Ldy5ND-AXheD"
   },
   "source": [
    "Paso 1 al 3"
   ]
  },
  {
   "cell_type": "code",
   "execution_count": null,
   "metadata": {
    "colab": {
     "base_uri": "https://localhost:8080/"
    },
    "id": "ap6TFILMXjoB",
    "outputId": "61db4321-7325-4922-9c19-433037efa477"
   },
   "outputs": [
    {
     "name": "stdout",
     "output_type": "stream",
     "text": [
      " Diferencia de Temperatura media Logarítmica=  111.73860917428547 °F\n",
      " R =  3.44 \n",
      " S =  0.14705882352941177 \n"
     ]
    }
   ],
   "source": [
    "import math\n",
    "#Paso 1 Determinar las temperaturas de entrada y salida del lado de la coraza y de los tubos.\n",
    "T1=260  #°F\n",
    "T2=174  #°F\n",
    "t1=90   #°F\n",
    "t2=115  #°F\n",
    "\n",
    "#Paso 2 Calcular la diferencia de temperaturas media logaritmica\n",
    "\n",
    "DTML= ((T1-t2)-(T2-t1))/math.log((T1-t2)/(T2-t1))\n",
    "print(f\" Diferencia de Temperatura media Logarítmica=  {DTML} °F\")\n",
    "\n",
    "#Paso 3 Calcular R y S\n",
    "\n",
    "R = (T1-T2)/(t2-t1)\n",
    "S = (t2-t1)/(T1-t1)\n",
    "print(f\" R =  {R} \")\n",
    "print(f\" S =  {S} \")"
   ]
  },
  {
   "cell_type": "markdown",
   "metadata": {
    "id": "N2n3YO9hXq_A"
   },
   "source": [
    "Paso 4 al 7"
   ]
  },
  {
   "cell_type": "code",
   "execution_count": null,
   "metadata": {
    "colab": {
     "base_uri": "https://localhost:8080/"
    },
    "id": "ba6_K2I6XxmW",
    "outputId": "d167536f-a8c5-46d6-cb2d-4561a3531274"
   },
   "outputs": [
    {
     "name": "stdout",
     "output_type": "stream",
     "text": [
      " Diferencia de Temperatura media Logarítmica corregida=  108.38645089905691 °F\n"
     ]
    }
   ],
   "source": [
    "#Paso 4 Determinar la diferencia de temperaturas media logaritmica corregida\n",
    "FT=0.97\n",
    "DTMLc= DTML*FT\n",
    "print(f\" Diferencia de Temperatura media Logarítmica corregida=  {DTMLc} °F\")\n",
    "\n",
    "#Paso 5 Determinar las temperaturas de bulbo del lado de los tubos y coraza\n",
    "TbT = (t1+t2)/2   #[°F]\n",
    "TbS= (T1+T2)/2    #[°F]\n",
    "\n",
    "#Paso 6 A la temperatura del bulbo del lado de los tubos, determine las propiedades del fluido\n",
    "\n",
    "SGT=1.015\n",
    "CT=0.688\n",
    "MuT=0.688\n",
    "KT=0.367\n",
    "\n",
    "#Paso 7 A la temperatura del bulbo\n",
    "\n",
    "SGS=0.9881\n",
    "CS=0.914\n",
    "Mus=0.533\n",
    "KS=0.320\n"
   ]
  },
  {
   "cell_type": "markdown",
   "metadata": {
    "id": "ez3C1pn9X921"
   },
   "source": [
    "Paso 8 y 9"
   ]
  },
  {
   "cell_type": "code",
   "execution_count": null,
   "metadata": {
    "colab": {
     "base_uri": "https://localhost:8080/"
    },
    "id": "-EXZHMg0YAJL",
    "outputId": "f7259745-40ea-4425-d9a8-faac74d43a66"
   },
   "outputs": [
    {
     "name": "stdout",
     "output_type": "stream",
     "text": [
      "Q (Calor)=  8551250.556 BTU/h\n",
      "M2 (Flujo másico)=  341367.2877 Lb/h\n",
      "Area total=788.9593657757093 ft²\n",
      "Area por coraza=788.9593657757093 ft²\n"
     ]
    }
   ],
   "source": [
    "#Paso 8 y 9 Determinar el Calor (Q) y flujos másicos:\n",
    "\n",
    "#Fluido 1\n",
    "M1=108789 #lb/hr\n",
    "Cp1=0.914  #BTU/lb-°F\n",
    "\n",
    "#Fluido 2\n",
    "Cp2=1.002  #BTU/lb-°F\n",
    "\n",
    "Q=(M1*Cp1)*(T1-T2)\n",
    "print(f\"Q (Calor)=  {Q} BTU/h\")\n",
    "\n",
    "\n",
    "M2=(Q/(Cp2*(t2-t1)))\n",
    "M2=round(M2,4)\n",
    "print(f\"M2 (Flujo másico)=  {M2} Lb/h\")\n",
    "\n",
    "UD=100 #BTU/h-ft^2-°F\n",
    "\n",
    "AT=Q/(UD*DTMLc) #Área total de transferencia  (ft^2)\n",
    "print(f'Area total={AT} ft\\u00b2')\n",
    "NCO=1    #Número de corazas requeridas.\n",
    "A=AT/NCO #Área por coraza (ft^2)\n",
    "print(f'Area por coraza={A} ft\\u00b2')\n"
   ]
  },
  {
   "cell_type": "markdown",
   "metadata": {
    "id": "2FXJMQaaYIcn"
   },
   "source": [
    "Paso 10 y 11"
   ]
  },
  {
   "cell_type": "code",
   "execution_count": null,
   "metadata": {
    "colab": {
     "base_uri": "https://localhost:8080/"
    },
    "id": "r5OGr85AYsVc",
    "outputId": "8bd72271-2bb5-41f0-b0f6-b9ca87e50718"
   },
   "outputs": [
    {
     "name": "stdout",
     "output_type": "stream",
     "text": [
      " Número de tubos =  194.42598652157554 \n"
     ]
    }
   ],
   "source": [
    "#Paso 10 Elegir parámetros;\n",
    "\n",
    "L=15.5    #Longitud de tubos (ft).\n",
    "NPT=2     #Número de pasos por el lado de tubos\n",
    "Di=0.834  #Diámetro interno tubos (in)\n",
    "Do=1      #Diámetro Externo tubos\n",
    "PT=1.25   #Pitch de los tubos (in)\n",
    "PN=1.25   #Pitch normal en los tubos (in)\n",
    "PP=1.25   #Pitch Paralelo (in)\n",
    "  #ARREGLO DE TUBOS CUADRADO\n",
    "LC=16.0   #Porciento de corte de la\n",
    "LS=4.65  #in\n",
    "LSI=4.65 #in\n",
    "LSO=4.65 #in\n",
    "NSS=2     #Número de fajas de sellos\n",
    "#Paso 11 Calcular el número de tubos del intercambiador de calor (NT)\n",
    "NT=(A/(pi*(Do/12)*L))\n",
    "print(f\" Número de tubos =  {NT} \")\n",
    "NT=199\n",
    "# Ajustar el número de tubos de acuerdo a la Tabla 2 del apéndice y determinar el\n",
    "#diámetro de la coraza de acuerdo al número de pasos por el lado de los tubos."
   ]
  },
  {
   "cell_type": "markdown",
   "metadata": {
    "id": "_YryDyYJbuYA"
   },
   "source": [
    "Paso 12 al 15"
   ]
  },
  {
   "cell_type": "code",
   "execution_count": null,
   "metadata": {
    "colab": {
     "base_uri": "https://localhost:8080/"
    },
    "id": "QpmoNZ-0b0di",
    "outputId": "1b00ec41-d3e0-4df7-893c-a2b8d5be93d0"
   },
   "outputs": [
    {
     "name": "stdout",
     "output_type": "stream",
     "text": [
      "Area del intercambiadro=807.5202116664764 ft²\n",
      "Coeficiente Global de transferencia=97.70150076461081 BTU/ hr ft² °F\n",
      "Area total=807.5202116664764 ft²\n",
      "Area por coraza=807.5202116664764 ft²\n",
      "Número de tubos =  199.0 \n",
      "NC= 12.648\n"
     ]
    }
   ],
   "source": [
    "#Paso12 Determinar el área del intercambiador\n",
    "\n",
    "A=pi*(Do/12)*L*NT\n",
    "print(f\"Area del intercambiadro={A} ft\\u00b2\")\n",
    "\n",
    "#Paso 13 Calcular el coeficiente global de transferencia de calor de diseño\n",
    "\n",
    "UD=(Q/(NCO*A*DTMLc))\n",
    "print(f\"Coeficiente Global de transferencia={UD} BTU/ hr ft\\u00b2 °F\")\n",
    "AT=Q/(UD*DTMLc) #Área total de transferencia  (ft^2)\n",
    "print(f'Area total={AT} ft\\u00b2')\n",
    "NCO=1    #Número de corazas requeridas.\n",
    "A=AT/NCO #Área por coraza (ft^2)\n",
    "print(f'Area por coraza={A} ft\\u00b2')\n",
    "NT=(A/(pi*(Do/12)*L))\n",
    "print(f\"Número de tubos =  {NT} \")\n",
    "\n",
    "#Paso 14\n",
    "DOTL=21.5 #in\n",
    "\n",
    "#Paso 15 Determinar el número de hileras cruzadas en una sección transversal (\n",
    "D=23.25\n",
    "LC=16\n",
    "LC=(LC*D)/100\n",
    "NC=(D*(1-2*(LC/D)))/PP\n",
    "print(f\"NC= {NC}\")"
   ]
  },
  {
   "cell_type": "markdown",
   "metadata": {
    "id": "5nw6YWWYb8Z6"
   },
   "source": [
    "Paso 16 al 18"
   ]
  },
  {
   "cell_type": "code",
   "execution_count": null,
   "metadata": {
    "colab": {
     "base_uri": "https://localhost:8080/"
    },
    "id": "1V6Ee4-4b_0k",
    "outputId": "f48da760-8e37-4b81-a56a-aa3b4c10b586"
   },
   "outputs": [
    {
     "name": "stdout",
     "output_type": "stream",
     "text": [
      "a 0.7353488372093022\n",
      "FC=0.8432149472824962\n",
      "NCW= 2.3808000000000002\n",
      "Mamparas: 39.0\n"
     ]
    }
   ],
   "source": [
    "#Paso 16 . Calcular la fracción de tubos totales en la sección de flujo transversal\n",
    "a=(D-(2*LC))/DOTL\n",
    "print(\"a\",a)\n",
    "FC=(1/pi)*(pi+2*a*sin(acos(a))-(2*acos(a)))\n",
    "print(f'FC={FC}')\n",
    "#Paso 17: Número efectivo de hileras en flujo transversal en cada ventana (NCW)\n",
    "\n",
    "NCW=(0.8*LC)/PP\n",
    "print(f\"NCW= {NCW}\")\n",
    "#Paso 18: Número de mamparas (NB)\n",
    "\n",
    "NB=((12*L-LSI-LSO)/LS)+1\n",
    "NB=round(NB,0)\n",
    "print(f\"Mamparas: {NB}\")"
   ]
  },
  {
   "cell_type": "markdown",
   "metadata": {
    "id": "K_jgwSkmcHtY"
   },
   "source": [
    "Paso 19 y 20"
   ]
  },
  {
   "cell_type": "code",
   "execution_count": null,
   "metadata": {
    "colab": {
     "base_uri": "https://localhost:8080/"
    },
    "id": "LfRyIlNk_eKi",
    "outputId": "c90ff11d-a295-48a3-995f-791de2211045"
   },
   "outputs": [
    {
     "name": "stdout",
     "output_type": "stream",
     "text": [
      "SM= 27.2025 in²\n",
      "SM= 27.2025 in²\n",
      "Fracción de área de flujo= 0.29914529914529914\n"
     ]
    }
   ],
   "source": [
    "#Paso 19: Área de flujo transversal cerca de la línea de centros para una sección de flujo transversal\n",
    "\n",
    "#Para arreglo cuadrado y cuadrado rotado:\n",
    "SM=LS*(D-DOTL+((DOTL-Do)/PN)*(PT-Do))\n",
    "print(f\"SM= {SM} in\\u00b2\")\n",
    "#Para arreglo triangular:\n",
    "SM=LS*(D-DOTL+((DOTL-Do)/PT)*(PT-Do))\n",
    "print(f\"SM= {SM} in\\u00b2\")\n",
    "\n",
    "\n",
    "#Paso 20 Fracción de área de flujo transversal disponible para flujo de \"desvio\" FSBP estimada de\n",
    "FSBP=((D-DOTL)/SM)*LS\n",
    "print(f\"Fracción de área de flujo= {FSBP}\")"
   ]
  },
  {
   "cell_type": "markdown",
   "metadata": {
    "id": "0Mbqoov7yaHm"
   },
   "source": [
    "Paso 21 al 23"
   ]
  },
  {
   "cell_type": "code",
   "execution_count": null,
   "metadata": {
    "colab": {
     "base_uri": "https://localhost:8080/"
    },
    "id": "dN3XLhkaMsbg",
    "outputId": "1b7f18a1-a635-4276-9b36-67fe3667c5ca"
   },
   "outputs": [
    {
     "name": "stdout",
     "output_type": "stream",
     "text": [
      "STB =  9.14097992744209 in²\n",
      "\n",
      "ϴ =  1.6460673842699522 \n",
      "\n",
      "SSB = 4.042987189036836 in²\n",
      "\n"
     ]
    }
   ],
   "source": [
    "#Paso 21: Calcular el área de fugas turbo-mampara para una mampara STB, estimada de:\n",
    "\n",
    "DTB=1/32 #in    #Si LS no excede 36 in\n",
    "\n",
    "STB=0.3926*NT*(1+FC)*(2*DTB*Do+(DTB**2))\n",
    "print(\"STB = \", STB, \"in\\u00b2\\n\")\n",
    "\n",
    "#Paso 22: Calcular el ángulo de corte de la mampara theta.\n",
    "#El valor de (1-(2*(LD)C/)) está en radianes entre 0 y pi/2.\n",
    "\n",
    "theta=2*acos(1-(2*(LC/D)))  #cos^-1 está en radianes\n",
    "print(\"\\u03F4 = \", theta,\"\\n\")\n",
    "\n",
    "#Paso 23: Calcular el área de las fugas coraza-mampara para una mampara SSB.\n",
    "\n",
    "DSB= 0.150 #Claro Diametral entra mampara-coraza (tabla 3 apéndice)\n",
    "\n",
    "SSB=(pi*D*DSB*(1-(theta/(2*pi))))/2\n",
    "print(\"SSB =\", SSB, \"in\\u00b2\\n\")"
   ]
  },
  {
   "cell_type": "markdown",
   "metadata": {
    "id": "CWBdAHUW-rsg"
   },
   "source": [
    "Paso 24 y 25"
   ]
  },
  {
   "cell_type": "code",
   "execution_count": null,
   "metadata": {
    "colab": {
     "base_uri": "https://localhost:8080/"
    },
    "id": "_uH7U1qdBfLJ",
    "outputId": "9b92802b-953c-45a1-b6b7-949687a86f35"
   },
   "outputs": [
    {
     "name": "stdout",
     "output_type": "stream",
     "text": [
      "SWG = 43.846302335534055 in²\n",
      "\n",
      "SWT = 12.252299899023706 in²\n",
      "\n",
      "SW = 31.59400243651035 in²\n",
      "\n",
      "DW = 1.4479333660610356 in\n"
     ]
    }
   ],
   "source": [
    "#Paso 24: Calcular el área de flujo a través de la ventana SW.\n",
    "\n",
    "#Área total de la ventana SWG.\n",
    "SWG=((D**2)/4)*((theta/2)-(1-(2*(LC/D)))*(sin(theta/2)))\n",
    "print(\"SWG =\", SWG, \"in\\u00b2\\n\")\n",
    "\n",
    "#Área ocupada por los tubos SWT.\n",
    "SWT=(NT/8)*(1-FC)*pi*(Do**2)\n",
    "print(\"SWT =\", SWT, \"in\\u00b2\\n\")\n",
    "\n",
    "#Área de flujo a través de la ventana SW.\n",
    "SW=SWG-SWT\n",
    "print(\"SW =\", SW, \"in\\u00b2\\n\")\n",
    "\n",
    "#Paso 25: Calcular el diámetro equivalente de la ventana DW.\n",
    "#Requerido solo si existe flujo laminar RES<=100.\n",
    "\n",
    "DW = (4*SW)/((pi/2)*NT*(1-FC)*Do+D*theta)\n",
    "print(\"DW =\", DW, \"in\")"
   ]
  },
  {
   "cell_type": "markdown",
   "metadata": {
    "id": "7bTCjqwkdhBD"
   },
   "source": [
    "Paso 26 y 27"
   ]
  },
  {
   "cell_type": "code",
   "execution_count": null,
   "metadata": {
    "colab": {
     "base_uri": "https://localhost:8080/"
    },
    "id": "UVpVVL5wdhBD",
    "outputId": "0d7dbc51-e5da-46df-85c1-ca87fdde39dd"
   },
   "outputs": [
    {
     "name": "stdout",
     "output_type": "stream",
     "text": [
      "N° de Reynolds lado coraza = 37206.15892079361\n"
     ]
    }
   ],
   "source": [
    "#Paso 26: Calcular el número de Reynolds del lado de la coraza, RES.\n",
    "\n",
    "RES=(12*Do*M1)/(2.42*Mus*SM)\n",
    "print(f'N° de Reynolds lado coraza = {RES}')\n",
    "\n",
    "#Paso 27: Estimar el factor de corrección por efectos de fuga en la mampara, JI.\n",
    "#Leído de figura 3 del apéndice para un arreglo cuadrado usando RES.\n",
    "JI=0.0058"
   ]
  },
  {
   "cell_type": "markdown",
   "metadata": {
    "id": "kPWjhDqudhBE"
   },
   "source": [
    "Paso 28"
   ]
  },
  {
   "cell_type": "code",
   "execution_count": null,
   "metadata": {
    "colab": {
     "base_uri": "https://localhost:8080/"
    },
    "id": "TtYMBZPZdhBE",
    "outputId": "0b06f0a9-30c2-495a-ef2d-ea534c8e8a6c"
   },
   "outputs": [
    {
     "name": "stdout",
     "output_type": "stream",
     "text": [
      "ho = 1279.8340257436187 BTU/h°Fft²\n"
     ]
    }
   ],
   "source": [
    "#Paso 28: Calcular el coeficiente de transferencia de calor para un haz de tubos ideal, ho.\n",
    "\n",
    "ho=JI*Cp1*((144*M1)/SM)*((KS/(Cp1*Mus*2.42))**(2/3))*(Mus/Mus)**0.14\n",
    "print((f'ho = {ho} BTU/h°Fft\\u00b2'))"
   ]
  },
  {
   "cell_type": "markdown",
   "metadata": {
    "id": "9n_XDtSddhBE"
   },
   "source": [
    "Paso 29 y 30"
   ]
  },
  {
   "cell_type": "code",
   "execution_count": null,
   "metadata": {
    "colab": {
     "base_uri": "https://localhost:8080/"
    },
    "id": "GSYTuUgWdhBE",
    "outputId": "bfeac065-3e87-4577-96f8-12dcb0fc0acf"
   },
   "outputs": [
    {
     "name": "stdout",
     "output_type": "stream",
     "text": [
      "JC = 1.1315376910308708\n",
      "JL = 0.5843554960977084\n"
     ]
    }
   ],
   "source": [
    "#Paso 29: Determinar el factor de correlación por efectos de la configuración de las mamparas, JC.\n",
    "# Se puede leer de la figura 4 del apéndice: JC=1.12\n",
    "# O calcularse mediante la siguiente ecuación:\n",
    "JC=FC+((0.524*((1-FC)**0.32)*(SM/SW)**0.03))\n",
    "print(f'JC = {JC}')\n",
    "\n",
    "#Paso 30: Calcular el factor de corrección por efectos de fugas en la mampara, JL.\n",
    "# Se puede leer de la figura 5 del apéndice: JL=0.59\n",
    "# O calcularse con la siguiente ecuación:\n",
    "# a=(STB+SSB)/SM ; b=SSB/(STB+SSB)\n",
    "a=(STB+SSB)/SM\n",
    "b=SSB/(STB+SSB)\n",
    "c=-30+a\n",
    "import math\n",
    "d=math.exp(c)\n",
    "\n",
    "JL=1-((1+b)*((0.45*a)+0.1)*(1-d))\n",
    "print(f'JL = {JL}')"
   ]
  },
  {
   "cell_type": "markdown",
   "metadata": {
    "id": "cQPGhG0udhBE"
   },
   "source": [
    "Paso 31 al 33"
   ]
  },
  {
   "cell_type": "code",
   "execution_count": null,
   "metadata": {
    "colab": {
     "base_uri": "https://localhost:8080/"
    },
    "id": "DMsf7rf2dhBE",
    "outputId": "7d0465ea-0913-4623-8564-53b6e3b1e76a",
    "scrolled": true
   },
   "outputs": [
    {
     "name": "stdout",
     "output_type": "stream",
     "text": [
      "JB= 0.8792368893283928\n",
      "JR= 1\n",
      "JS= 0.97\n"
     ]
    }
   ],
   "source": [
    "#Paso 31: Estimar el valor del factor de correccion por el flujo que no pasa por el haz de tubos, JB.\n",
    "\n",
    "alfa=1.35\n",
    "JB=math.exp(-alfa*FSBP*(1-(((2*NSS)/NC)**(1/3))))\n",
    "\n",
    "print (\"JB=\",JB)\n",
    "\n",
    "#Paso 32: Determinar el factor de correccion del factor adverso de temperatura a números bajos de Reynolds, JR.\n",
    "#Este factor es igual a 1.0, si RES es igual o más grande que 100. Por tanto para Re = 37206.15 , JR=1\n",
    "\n",
    "JR=1\n",
    "print (\"JR=\",JR )\n",
    "\n",
    "#Paso 33:Calcular el factor de correccion de mamparas a la entrada o a la salida.\n",
    "n=0.6\n",
    "\n",
    "F=(NB-1)+((LSI/LS)**1-n)+((LSO/LS)**1-n)\n",
    "G=(NB-1)+(LSI/LS)+(LSO/LS)\n",
    "\n",
    "JS=F/G\n",
    "print  (\"JS=\",JS)\n",
    "\n"
   ]
  },
  {
   "cell_type": "markdown",
   "metadata": {
    "id": "5GTQhx3kdhBE"
   },
   "source": [
    "Paso 34"
   ]
  },
  {
   "cell_type": "code",
   "execution_count": null,
   "metadata": {
    "colab": {
     "base_uri": "https://localhost:8080/"
    },
    "id": "qLq-IIZKdhBE",
    "outputId": "aaa207ec-d44e-4129-f919-87c66a672b36"
   },
   "outputs": [
    {
     "name": "stdout",
     "output_type": "stream",
     "text": [
      "HO= 721.7344660921635 BTU/hft^2°F\n"
     ]
    }
   ],
   "source": [
    "#Paso 34:Calcular el coeficiente de la pelicual del lado de la coraza.\n",
    "HO= ho*JC*JL*JB*JR*JS\n",
    "print (\"HO=\",HO, \"BTU/hft^2°F\")"
   ]
  },
  {
   "cell_type": "markdown",
   "metadata": {
    "id": "2PUkdmMFdhBE"
   },
   "source": [
    "Paso 35"
   ]
  },
  {
   "cell_type": "code",
   "execution_count": null,
   "metadata": {
    "colab": {
     "base_uri": "https://localhost:8080/"
    },
    "id": "Jg8YPr11dhBF",
    "outputId": "f118e70a-3668-4e85-856c-c234d0e6ce9e"
   },
   "outputs": [
    {
     "name": "stdout",
     "output_type": "stream",
     "text": [
      "AT = 0.3774701131356772 ft^2\n"
     ]
    }
   ],
   "source": [
    "#Paso 35:Calcular el area de flujo de los tubos\n",
    "\n",
    "AT=(((pi*Di**2)/4)*NT)/(144*NPT)\n",
    "\n",
    "print (\"AT =\",AT, \"ft^2\")"
   ]
  },
  {
   "cell_type": "markdown",
   "metadata": {
    "id": "fGO4gCKidhBF"
   },
   "source": [
    "Paso 36"
   ]
  },
  {
   "cell_type": "code",
   "execution_count": null,
   "metadata": {
    "colab": {
     "base_uri": "https://localhost:8080/"
    },
    "id": "DVLPjBtOdhBF",
    "outputId": "981a28f2-7555-492c-a03d-1c3dcfe4bb06"
   },
   "outputs": [
    {
     "name": "stdout",
     "output_type": "stream",
     "text": [
      "GT = 904355.8041303777 lb/hft^2\n"
     ]
    }
   ],
   "source": [
    "#Paso 36:Determinar el gasto másico en los tubos, GT:\n",
    "\n",
    "GT = M2/AT\n",
    "print(\"GT =\",GT, \"lb/hft^2\")"
   ]
  },
  {
   "cell_type": "markdown",
   "metadata": {
    "id": "C3aJdKcLdhBF"
   },
   "source": [
    "Paso 37"
   ]
  },
  {
   "cell_type": "code",
   "execution_count": null,
   "metadata": {
    "colab": {
     "base_uri": "https://localhost:8080/"
    },
    "id": "zFg7DGDYdhBF",
    "outputId": "a8239600-5324-4746-9f36-5851a408f89c"
   },
   "outputs": [
    {
     "name": "stdout",
     "output_type": "stream",
     "text": [
      "VT = 3.968213617791357 ft/s\n"
     ]
    }
   ],
   "source": [
    "#Paso 37:Calcular la velocidad del lado de los tubos, VT:\n",
    "VT = GT/(3600*SGT*62.37)\n",
    "print(\"VT =\",VT, \"ft/s\")"
   ]
  },
  {
   "cell_type": "markdown",
   "metadata": {
    "id": "lwp9BkhjdhBF"
   },
   "source": [
    "Paso 38"
   ]
  },
  {
   "cell_type": "code",
   "execution_count": null,
   "metadata": {
    "colab": {
     "base_uri": "https://localhost:8080/"
    },
    "id": "kwqiqtpKdhBF",
    "outputId": "8f79a71c-7827-468a-e086-c08c639b16dc"
   },
   "outputs": [
    {
     "name": "stdout",
     "output_type": "stream",
     "text": [
      "Número de Reynolds lado tubos = 37750.29333260934\n"
     ]
    }
   ],
   "source": [
    "#Paso 38:Determinar el número de Reynolds del lado de los tubos, RET:\n",
    "RET = (GT*Di)/(12*MuT*2.42)\n",
    "print(\"Número de Reynolds lado tubos =\",RET)"
   ]
  },
  {
   "cell_type": "markdown",
   "metadata": {
    "id": "jZZK8qPDdhBF"
   },
   "source": [
    "Paso 39"
   ]
  },
  {
   "cell_type": "code",
   "execution_count": null,
   "metadata": {
    "colab": {
     "base_uri": "https://localhost:8080/"
    },
    "id": "UG0GVbXldhBF",
    "outputId": "83841d87-7cb6-49c2-e64d-4fc6a840719c"
   },
   "outputs": [
    {
     "name": "stdout",
     "output_type": "stream",
     "text": [
      "HIO = 831.3228213336272 BTU/hft^2°F\n"
     ]
    }
   ],
   "source": [
    "#Paso 39:Calcular el coeficiente de película del lado d elos tubos, HIO\n",
    "#Para agua:\n",
    "\n",
    "HIO = (150/(Di**0.2))*(1+((0.011*(t1+t2))/2))*(VT**0.8)*(Di/Do)\n",
    "print(\"HIO =\",HIO,\"BTU/hft^2°F\")"
   ]
  },
  {
   "cell_type": "markdown",
   "metadata": {
    "id": "gPetvSw5dhBF"
   },
   "source": [
    "Paso 40"
   ]
  },
  {
   "cell_type": "code",
   "execution_count": null,
   "metadata": {
    "colab": {
     "base_uri": "https://localhost:8080/"
    },
    "id": "xV4Dt20AdhBG",
    "outputId": "e7de5bb1-033a-42f1-af2d-4302beeb76f2"
   },
   "outputs": [
    {
     "name": "stdout",
     "output_type": "stream",
     "text": [
      "tw = 155.71026921326714 °F\n",
      "H0 = 721.7344660921635\n",
      "HIO = 831.3228213336272\n"
     ]
    }
   ],
   "source": [
    "#Paso 40:Estimar la temperatura de pared, tW\n",
    "#Para fluido caliente en la coraza\n",
    "tw = ((t1+t2)/2)+((HO/(HIO+HO)))*(((T1+T2)/2)-(t1+t2)/2)\n",
    "print(\"tw =\",tw,\"°F\")\n",
    "\n",
    "#Corrección por viscosidad:\n",
    "#A tw = 155.71\n",
    "MuT=0.688\n",
    "Mus=0.533\n",
    "\n",
    "H0 =HO*(Mus/Mus)**0.14\n",
    "print(\"H0 =\",H0)\n",
    "\n",
    "HIO2=HIO*(MuT/MuT)**0.14\n",
    "print(\"HIO =\",HIO2)"
   ]
  },
  {
   "cell_type": "markdown",
   "metadata": {
    "id": "zXxdudURfOXH"
   },
   "source": [
    "Paso 41 al 45"
   ]
  },
  {
   "cell_type": "code",
   "execution_count": null,
   "metadata": {
    "colab": {
     "base_uri": "https://localhost:8080/"
    },
    "id": "rSgBydikfN2A",
    "outputId": "fd076a2b-5d20-4a47-c0f5-ed336c0c3b13"
   },
   "outputs": [
    {
     "name": "stdout",
     "output_type": "stream",
     "text": [
      "FSI = 0.15 \n",
      "\n",
      "ΔPBI = 0.33973312567437686 psi \n",
      "\n",
      "ΔPWI = 0.13253408473671766 psi \n",
      "\n",
      "RB = 0.67 \n",
      "\n",
      "RL = 0.29\n"
     ]
    }
   ],
   "source": [
    "# Cálculo de la caída de presión del lado de la coraza\n",
    "\n",
    "# Paso 41: Determinar el factor de fricción FSI\n",
    "#FSI = 0.133      # Para arreglo cuadrado rotado figura 11\n",
    "#FSI = 0.14       # Para arreglo triagunlar figura 11\n",
    "FSI = 0.15       # Para arreglo cuadrado figura 12\n",
    "print('FSI =', FSI,'\\n')\n",
    "\n",
    "# Paso 42: Calcular la caída de presión para una sección de flujo transversal ideal\n",
    "PBI = ((0.69e-6*FSI*M1**2*NC)/(SM**2*62.37*SGS))*(Mus/Mus)**0.14\n",
    "print('\\u0394PBI =', PBI,'psi \\n')\n",
    "\n",
    "# Paso 43: Calcular la caída de presión para una sección de ventana ideal\n",
    "if RES >= 100:\n",
    "    PWI = (M1**2*(2+0.6*NCW)*1.73e-7)/(SM*SW*SGS*62.37)\n",
    "    print('\\u0394PWI =', PWI,'psi \\n')\n",
    "if RES < 100:\n",
    "    PWI = ((0.75e-6*Mus*M1)/(SM*SW*SGS*62.37))*((NCW/PT)+(LS/DW)) + ((M1**2*0.345e-6)/(SM*SW*SGS*62.37))\n",
    "    print('\\u0394PWI =', PWI,'psi \\n')\n",
    "\n",
    "# Paso 44: Determinar el factor de corrección por el flujo que no pasa por el haz de tubos\n",
    "#print('Fbp =', FSBP)\n",
    "#print('NSS/NC =', NSS/NC)\n",
    "RB = 0.67   # Figura 13 (va de 0.5 a 0.8 dependiendo de la construcción y el num de gajos)\n",
    "print('RB =', RB,'\\n')\n",
    "\n",
    "# Paso 45: Determinar el factor de corrección por efecto de fugas en la mampara por caída de presión\n",
    "#f1 = (STB+SSB)/(SM)\n",
    "#print(f1)\n",
    "#f2 = (SSB)/(SSB+STB)\n",
    "#print(f2)\n",
    "RL = 0.29      # De la figura 14\n",
    "print('RL =', RL)"
   ]
  },
  {
   "cell_type": "markdown",
   "metadata": {
    "id": "XooT9rtadhBG"
   },
   "source": [
    "Pasos del 46 al 50"
   ]
  },
  {
   "cell_type": "code",
   "execution_count": null,
   "metadata": {
    "id": "af2DH6y0XZPh",
    "outputId": "798d2c73-61a4-40b8-9546-721cb9e3cd3e"
   },
   "outputs": [
    {
     "name": "stdout",
     "output_type": "stream",
     "text": [
      "RS =  1.0\n",
      "ΔPS =  4.54828113175612 psi\n",
      "ΔPTT =  1.3635068847724856 psi\n",
      "ΔPR =  0.8833746628406408 psi\n",
      "ΔPR =  2.2468815476131265 psi\n"
     ]
    }
   ],
   "source": [
    "# Paso 46: Calcular el factor de corrección por espaciamiento desigual entre mamparas, RS.\n",
    "n1=1.6     #Para flujo turbulento RES>100\n",
    "RS=0.5*((pow((LSI/LS),-n1))+(pow((LSO/LS),-n1)))\n",
    "print(\"RS = \",RS)\n",
    "\n",
    "# Paso 47: Determinar la caída de presión a través del lado de la coraza (excluyendo las boquillas).\n",
    "PS=((((NB-1)*PBI*RB)+(NB*PWI))*RL)+(2*PBI*RB*(1+(NCW/NC))*RS)\n",
    "print(\"\\u0394PS = \", PS, \"psi\")\n",
    "\n",
    "# Paso 48: Calcular la caída de presión para tramos rectos:\n",
    "PTT=(0.00273*pow(RET,-0.24895)*(pow(GT,2))*L*NPT*12)/(5.22e10*Di*SGT)\n",
    "print(\"\\u0394PTT = \", PTT, \"psi\")\n",
    "\n",
    "# Paso 49: Calcular la caída de presión para retornos.\n",
    "PR=4*pow(GT,2.0015)*1.34248e-13*NPT/SGT\n",
    "print(\"\\u0394PR = \", PR, \"psi\")\n",
    "\n",
    "# Paso 50: Calcular la caída de presión total del lado de los tubos.\n",
    "PT=PTT+PR\n",
    "print(\"\\u0394PR = \", PT, \"psi\")\n",
    "\n"
   ]
  },
  {
   "cell_type": "markdown",
   "metadata": {
    "id": "VJLwi22vXZPm"
   },
   "source": [
    "Pasos 51 al 54"
   ]
  },
  {
   "cell_type": "code",
   "execution_count": null,
   "metadata": {
    "id": "glF0VTkQXZPn",
    "outputId": "3d435eb6-22e7-4283-ea06-e396b069ee1d"
   },
   "outputs": [
    {
     "name": "stdout",
     "output_type": "stream",
     "text": [
      "UC=  386.331101539695 Btu/h*ft^2°F\n",
      "UO=  116.43540105437584 Btu/h*ft^2°F\n",
      "AO= 677.5940638597206 ft^2\n",
      "% SD=  19.1746289905004 %\n"
     ]
    }
   ],
   "source": [
    "# Paso 51: Calcular el coeficiente global de transferencia de calor limpio.\n",
    "UC= HO*HIO/(HO+HIO)\n",
    "print(\"UC= \", UC,\"Btu/h*ft^2°F\")\n",
    "\n",
    "# Paso 52: Calcular el coeficiente global de transferencia de calor de servicio UO,\n",
    "# basado en el área de transferencia de calor del lado de la coraza.\n",
    "RIO=0.003\n",
    "RO=0.003\n",
    "UO=1/((1/HIO)+(1/HO)+RIO+RO)\n",
    "print(\"UO= \", UO,\"Btu/h*ft^2°F\")\n",
    "\n",
    "# Paso 53: Calcular el área requerida.\n",
    "AO=Q/(UO*DTMLc)\n",
    "print(\"AO=\",AO,\"ft^2\")\n",
    "\n",
    "# Paso 54: Calcular el porciento de sobrediseño.\n",
    "SD=((A/AO)-1)*100\n",
    "print(\"% SD= \", SD,\"%\")\n"
   ]
  }
 ],
 "metadata": {
  "colab": {
   "provenance": []
  },
  "kernelspec": {
   "display_name": "Python 3 (ipykernel)",
   "language": "python",
   "name": "python3"
  },
  "language_info": {
   "codemirror_mode": {
    "name": "ipython",
    "version": 3
   },
   "file_extension": ".py",
   "mimetype": "text/x-python",
   "name": "python",
   "nbconvert_exporter": "python",
   "pygments_lexer": "ipython3",
   "version": "3.12.4"
  }
 },
 "nbformat": 4,
 "nbformat_minor": 4
}
