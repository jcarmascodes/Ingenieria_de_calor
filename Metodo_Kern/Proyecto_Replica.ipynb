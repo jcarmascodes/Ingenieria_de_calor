{
  "nbformat": 4,
  "nbformat_minor": 0,
  "metadata": {
    "colab": {
      "name": "Proyecto_Replica.ipynb",
      "provenance": [],
      "collapsed_sections": [
        "Fnw8R5QfMUHf"
      ]
    },
    "kernelspec": {
      "name": "python3",
      "display_name": "Python 3"
    }
  },
  "cells": [
    {
      "cell_type": "markdown",
      "metadata": {
        "id": "d46WE_ILL3WC"
      },
      "source": [
        "# **Método de Kern**"
      ]
    },
    {
      "cell_type": "markdown",
      "metadata": {
        "id": "Fnw8R5QfMUHf"
      },
      "source": [
        "## **Fórmulas**"
      ]
    },
    {
      "cell_type": "markdown",
      "metadata": {
        "id": "j0TnukP3PvjH"
      },
      "source": [
        "###**Calor transferido**\n",
        "\n",
        "Ecuación de diseño:\n",
        "\\begin{equation}\n",
        "Q = U_0 A_0 (\\Delta T_{lm})F\n",
        "\\end{equation}\n",
        "\n",
        "Del balance de energía:\n",
        "\\begin{equation}\n",
        "Q_{perdido} = Q_{ganado}\n",
        "\\end{equation}\n",
        "\n",
        "\\begin{equation}\n",
        "Q = MC_p(\\Delta T)\n",
        "\\end{equation}\n",
        "\n",
        "Para calcular las propiedades de los fluidos se usa su temperatura media $T_m$\n",
        "\n",
        "\\begin{equation}\n",
        "T_m = \\frac{T_1+T_2}{2}\n",
        "\\end{equation}\n",
        "\n",
        "<h4> Del balance de energía se calcula el calor transferido </h4>\n",
        "\\begin{equation}\n",
        "Q_{perdido} = M_{benceno}C_{pbenceno}(T_1 - T_2)\n",
        "\\end{equation}\n",
        "\n",
        "\\begin{equation}\n",
        "Q_{ganado} = M_{o-xileno}C_{po-xileno}(t_2 - t_1)\n",
        "\\end{equation}\n",
        "\n",
        "###**Cálculo de diferencia de temperatura logarítmica media** \n",
        "\n",
        "\\begin{equation}\n",
        "\\Delta T_{lm} = \\frac{\\Delta T_1 - \\Delta T_2}{ln \\frac{\\Delta T_1}{\\Delta T_2}}\n",
        "\\end{equation}\n",
        "\n",
        "\\begin{equation}\n",
        "\\Delta T_1 = T_1 - t_2\n",
        "\\end{equation}\n",
        "\n",
        "\\begin{equation}\n",
        "\\Delta T_2 = T_2 - t_1\n",
        "\\end{equation}\n",
        "\n",
        "###**Cálculo del área total de transfrencia de calor**\n",
        "\n",
        "Se debe calcular el área total de transferencia de calor, puesto que no es posible obtener un valor exacto debido a que no se puede calcular el coeficiente global de energía $U_0$\n",
        "De la ecuación de diseño:\n",
        "\\begin{equation}\n",
        "A_0 = \\frac{Q}{U_0 (\\Delta T_{lm})F}\n",
        "\\end{equation}\n",
        "\n",
        "###**Cálculo del número de tubos**\n",
        "\n",
        "Para determinar el número de tubos para cumplir el área total, se debe proponer la velocidad que lleva el fluido al interior de los tubos. Debe ser mayor a la mínima recomendada ($1 \\frac{m}{s}$).\n",
        "\n",
        "Entonces la velocidad propuesta es: $1 \\frac{m}{s}$\n",
        "\n",
        "\\begin{equation}\n",
        "\\text{Área de flujo fluido} = \\frac{\\text{flujo volumétrico}}{\\text{Velocidad del fluido}}\n",
        "\\end{equation}\n",
        "\n",
        "\\begin{equation}\n",
        "\\text{No. tubos} = \\frac{\\text{Área de flujo (fluido)}}{\\text{Área de flujo (tubería)}}\n",
        "\\end{equation}\n",
        "\n",
        "Para conocer el área de flujo de tubería es necesario elegir las dimensiones de la tubería, donde:\n",
        "\n",
        "Espesor de la pared = $x$\n",
        "\n",
        "Diámetro interno:\n",
        "$D_i = D_o - 2x$\n",
        "\n",
        "Área de flujo (tubería):\n",
        "$A_f = \\frac{\\pi}{4} D_i^2$\n",
        "\n",
        "Área superficial:\n",
        "$A_s = \\pi DL$\n",
        "\n",
        "$D$ = $D_i$ (interna) o $D$ = $D_o$ (externa)\n",
        "\n",
        "Ya que se conoce el No. de tubos, es necesario determinar la longitud:\n",
        "Diámetro interno:\n",
        "\\begin{equation}\n",
        "A_0 = A_{se}(\\text{No. tubos})L\n",
        "\\end{equation}\n",
        "\n",
        "###**Cálculo del número de pasos:**\n",
        "\n",
        "\\begin{equation}\n",
        "\\text{No. pasos} = \\frac{L}{\\text{Longitud deseada del intercambiador}}\n",
        "\\end{equation}\n",
        "\n",
        "\\begin{equation}\n",
        "\\text{No. total de tubos} = ({\\text{No.tubos}})({\\text{No.pasos}})\n",
        "\\end{equation}\n",
        "\n",
        "### **Calculo del coeficiente global de transferencia de energia**\n",
        "\n",
        "**Cálculo del coeficiente interno de película**\n",
        "\n",
        "Área de flujo por paso\n",
        "\\begin{equation}\n",
        "\\text{Af por paso} = D_i^2 \\frac{\\pi}{4}{\\text{No. tubos por paso}}\n",
        "\\end{equation}\n",
        "\n",
        "\\begin{equation}\n",
        "\\text{No. tubos por paso} = \\frac{\\text{No. total de tubos}}{\\text{No. paso}}\n",
        "\\end{equation}\n",
        "\n",
        "\\begin{equation}\n",
        "V_{real} = \\frac{\\text{flujo volumétrico}}{\\text{Af por paso}}\n",
        "\\end{equation}\n",
        "\n",
        "\\begin{equation}\n",
        "R_e = \\frac{D_i V \\rho}{\\mu}\n",
        "\\end{equation}\n",
        "\n",
        "Cuando se está en la región turbulenta, donde se tienen las siguientes ecuaciones:\n",
        "\n",
        "Fluido que se entría:\n",
        "\\begin{equation}\n",
        "N_u = 0.023 R_e^{0.8} P_r^{0.3}\n",
        "\\end{equation}\n",
        "\n",
        "La relación entre $N_u$ y el coeficiente de película:\n",
        "\\begin{equation}\n",
        "N_u = \\frac{h_iD_i}{k}\n",
        "\\end{equation}\n",
        "\n",
        "Número de Prandtl\n",
        "\\begin{equation}\n",
        "P_r = \\frac{C_p \\mu}{k}\n",
        "\\end{equation}\n",
        "\n",
        "$k$ = conductividad térmica del fluido\n",
        "\n",
        "**Calculo del coeficiente externo de película**\n",
        "\\begin{equation}\n",
        "\\frac{h_o D_o}{k} = 0.36 \\left( \\frac{D_eG_s}{\\mu} \\right)^{0.55} (P_r)^{0.33} \\left( \\frac{\\mu}{\\mu_s} \\right)^{0.14}\n",
        "\\end{equation}\n",
        "\n",
        "\\begin{equation}\n",
        "h_o = \\left[ \\frac{kcal}{m^2h°C} \\right] \n",
        "\\end{equation}\n",
        "\n",
        "Diámetro equivalente para arreglo cuadrangular:\n",
        "\\begin{equation}\n",
        "D_e = \\frac{4(P_t^2 - \\frac{\\pi D_o^2}{4})}{\\pi D_o} = [m] \n",
        "\\end{equation}\n",
        "\n",
        "Masa velocidad:\n",
        "\\begin{equation}\n",
        "G_s = \\frac{\\text{flujo másico}}{as}\n",
        "\\end{equation}\n",
        "\n",
        "Área de flujo en los tubos:\n",
        "\\begin{equation}\n",
        "as = \\frac{D_sCB}{P_t}\n",
        "\\end{equation}\n",
        "\n",
        "$D_s$ = Diámetro interno de la coraza,\n",
        "$C$ = Claro entre tubos,\n",
        "$B$ = Distancia entre baffles,\n",
        "$Pt$ Distancia de centro a centro entre los tubos (pitch)\n",
        "\n",
        "\\begin{equation}\n",
        "C = P_t - D_o\n",
        "\\end{equation}\n",
        "\n",
        "\\begin{equation}\n",
        "B = \\frac{D_s}{5}\n",
        "\\end{equation}\n",
        "\n",
        "###**Obtención del coeficiente global de transferencia de calor**\n",
        "\n",
        "\\begin{equation}\n",
        "U_o = \\frac{1}{\\frac{D_o}{D_i h_i} + \\frac{D_o}{D_ihd_i} + \\frac{xD_o}{k_w D_w} + \\frac{1}{h d_o} + \\frac{1}{h_o}} = \\left[ \\frac{kcal}{m^2h°C} \\right]\n",
        "\\end{equation}\n",
        "\n",
        "*Donde:*\n",
        "\n",
        "$D_w = \\frac{D_o - D_i}{ln \\frac{D_o}{D_i}}$\n",
        "\n",
        "$k_w$ = conductividad térmica del material del que está construido el tubo\n",
        "\n",
        "$\\frac{D_o}{D_ih_i}$ : Resistencia al flujo de calor que existe en el fluido, desde la zona de turbulencia hasta la zona laminar, al interior de los tubos.\n",
        "\n",
        "$\\frac{D_o}{D_ihD_i}$ : Impedimento al flujo de calor que se da en la capa de suciedad o incrustración al interior del tubo.\n",
        "\n",
        "$\\frac{xD_o}{k_wD_w}$ : Resistencia del material del tubo.\n",
        "\n",
        "$\\frac{1}{hd_o}$ : Flujode calor que existe en la capa de depósitos en el exterior de la tubería.\n",
        "\n",
        "$\\frac{1}{h_o}$ : Resistencia al flujo de calor que existe en el fluido, desde la zona de turbulencia hasta la zona laminar, en el fluido que viaja por la coraza.\n",
        "\n",
        "\n",
        "###**Caída de presión**\n",
        "\n",
        "**Caída de presión en los tubos**\n",
        "\\begin{equation}\n",
        "\\frac{\\Delta P_L}{\\rho} = F_D \\frac{V_{real}^2LN_{pasos}}{2gD_i} = [m]\n",
        "\\end{equation}\n",
        "\n",
        "\\begin{equation}\n",
        "\\frac{\\Delta P_r}{\\rho} = 4N_{pasos} \\frac{V_{real}^2}{2g} = [m]\n",
        "\\end{equation}\n",
        "\n",
        "\\begin{equation}\n",
        "\\Delta P_T = \\Delta P_L + \\Delta P_r = \\left[ \\frac{kg}{cm^2} \\right]\n",
        "\\end{equation}\n",
        "\n",
        "**Caída de presión en la coraza**\n",
        "\\begin{equation}\n",
        "\\frac{\\Delta P_s}{\\rho} = F_s \\frac{G_s^2D_s(n+1)}{2gD_e \\rho ^2} = [m]\n",
        "\\end{equation}"
      ]
    },
    {
      "cell_type": "markdown",
      "metadata": {
        "id": "dy1IWb8cMIgn"
      },
      "source": [
        "##**Datos del proceso**"
      ]
    },
    {
      "cell_type": "markdown",
      "metadata": {
        "id": "lKdj77BrMDUz"
      },
      "source": [
        "---\n",
        "\n",
        "Se requiere enfriar $60000 \\frac{lb}{h}$ de **42 API de Keroseno** de $400°F$ a $220°F$, utilizando un **destilado de 35 API** de $100°F$ a $200°F$. Colocar el Keroseno en la coraza.\n",
        "\n",
        "---"
      ]
    },
    {
      "cell_type": "code",
      "metadata": {
        "id": "lSILY7-pMBS7",
        "colab": {
          "base_uri": "https://localhost:8080/"
        },
        "outputId": "d7022cf7-cd70-4eb5-f640-c6e1f9be3726"
      },
      "source": [
        "from tabulate import tabulate\n",
        "from  math import *\n",
        "import numpy as np\n",
        "\n",
        "# Datos del proceso (T=Caliente, t=Frío)\n",
        "# compuesto = ['CORAZA','TUBOS']\n",
        "compuesto = ['KEROSENO','DESTILADO']\n",
        "MC = 60000           # Flujo másico conocido ETILENGLICOL [Lb/h]\n",
        "T1 = 400             # Temperatura inicial del fluido caliente [°F]\n",
        "T2 = 220             # Temperatura final del fluido caliente [°F]\n",
        "t1 = 100             # Temperatura inicial del fluido frío [°F]\n",
        "t2 = 200             # Temperatura final del fluido frío [°F]\n",
        "\n",
        "dRef = 62.426337449  # Densidad del agua a 60°F\n",
        "\n",
        "dC = dRef*0.715      # Densidad del fluido en coraza a Tm [Lb/ft^3]\n",
        "dT = dRef*0.82       # Densidad del fluido en tubos a Tm [Lb/ft^3]\n",
        "dM = 470.7068        # Densidad del material de los tubos [Lb/ft^3]\n",
        "print(dC)\n",
        "print(dT)\n",
        "\n",
        "CpC = 0.605          # Calor específico del fluido en coraza [BTU/Lb°F]\n",
        "CpT = 0.500          # Calor específico del fluido en tubos [BTU/Lb°F]\n",
        "\n",
        "muC = 0.7741         # Viscosidad del fluido en coraza a Tm [Lb/ft*h]\n",
        "muT = 5.0801         # Viscosidad del fluido en tubos a Tm [Lb/ft*h]\n",
        "\n",
        "kC = 0.0750          # Conductividad térmica del fluido en coraza [BTU/ft h°F]\n",
        "kT = 0.0765          # Conductividad térmica del fluido en tubos [[BTU/ft h°F]\n",
        "kw = 26.52           # Conductividad térmica del material [BTU/ft h°F] (acero al carbon)\n",
        "g = 32.16            # Gravedad [ft/s^2]\n",
        "\n",
        "#-------------------------------------------------------------------------------\n",
        "hdo = 0.001          # Factor de incrustramiento en coraza [ft^2h°F/BTU]\n",
        "hdi = 0.002          # Factor de incrustramiento en tubos [ft^2h°F/BTU]\n",
        "\n",
        "U0min = 10           # Uo mínimo [BTU/h ft^2 °F] valiente página 71\n",
        "U0max = 40           # Uo máximo [BTU/h ft^2 °F] valiente página 71\n",
        "U0 = 34.6182 #39.663          # Uo [BTU/h ft^2 °F] (39.4836)\n",
        "\n",
        "NopasosC = 3         # Número de pasos en la coraza\n",
        "NopasosT = 6         # Número de pasos en tubos"
      ],
      "execution_count": null,
      "outputs": [
        {
          "output_type": "stream",
          "text": [
            "44.634831276035\n",
            "51.18959670818\n"
          ],
          "name": "stdout"
        }
      ]
    },
    {
      "cell_type": "markdown",
      "metadata": {
        "id": "quMtEzWFQ5re"
      },
      "source": [
        "## **Calor transferido**"
      ]
    },
    {
      "cell_type": "code",
      "metadata": {
        "id": "kfl852SIMLrl",
        "colab": {
          "base_uri": "https://localhost:8080/"
        },
        "outputId": "33d98a50-7de5-488a-b726-49dc969fd177"
      },
      "source": [
        "# Calculando el calor transferido, es decir el calor perdido #\n",
        "Q = MC*CpC*(T1-T2)\n",
        "\n",
        "# Apartir del calor perdido se puede calcular el flujo másico del oxileno se sabe que Qp=Qg\n",
        "MT = Q / (CpT*(t2-t1))\n",
        "\n",
        "# Cálculo de diferencia de temeratura media logaritmica [T(fluido caliente), t(fluido frío)]\n",
        "Tlm = ((T1-t2)-(T2-t1))/(log((T1-t2)/(T2-t1)))\n",
        "\n",
        "# Se calcula P y R, para posteriormente determinar el factor de corrección\n",
        "P = (t2-t1)/(T1-t1)\n",
        "R = (T1-T2)/(t2-t1)\n",
        "#Del apéndice L:\n",
        "F = 0.99           # Dato obtenido de la lectura de la gráfica 2,4 del apéndice L\n",
        "A0 = (Q/(U0*Tlm*F))\n",
        "\n",
        "Datos1 = [['DESCRIPCIÓN', 'VALORES', 'UDS'],\n",
        "          ['Calor transferido (Q)', '%.2f' %Q,'BTU/h'],\n",
        "          ['Flujo másico en coraza (MC)', MC, 'Lb/h'],\n",
        "          ['Flujo másico en tubos (MT)', '%.3f' %MT, 'Lb/h'],\n",
        "          ['Temp logaritmica media (Tlm)', '%.3f' %Tlm, '°F'],\n",
        "          ['P', '%.3f' %P, '---'],\n",
        "          ['R', '%.3f' %R, '---'],\n",
        "          ['F', '%.3f' %F, '---'],\n",
        "          ['Coef. global de transf de calor (U0)', '%.1f.' %U0,'BTU/ft\\u00b2h°F'],\n",
        "          ['Área total de transf de calor (A0)', '%.3f.' %A0,'ft\\u00b2']]\n",
        "print(tabulate(Datos1, headers='firstrow', tablefmt='fancy_grid', stralign='center'))"
      ],
      "execution_count": null,
      "outputs": [
        {
          "output_type": "stream",
          "text": [
            "╒══════════════════════════════════════╤════════════╤════════════╕\n",
            "│             DESCRIPCIÓN              │  VALORES   │    UDS     │\n",
            "╞══════════════════════════════════════╪════════════╪════════════╡\n",
            "│        Calor transferido (Q)         │ 6534000.00 │   BTU/h    │\n",
            "├──────────────────────────────────────┼────────────┼────────────┤\n",
            "│     Flujo másico en coraza (MC)      │   60000    │    Lb/h    │\n",
            "├──────────────────────────────────────┼────────────┼────────────┤\n",
            "│      Flujo másico en tubos (MT)      │ 130680.000 │    Lb/h    │\n",
            "├──────────────────────────────────────┼────────────┼────────────┤\n",
            "│     Temp logaritmica media (Tlm)     │  156.609   │     °F     │\n",
            "├──────────────────────────────────────┼────────────┼────────────┤\n",
            "│                  P                   │   0.333    │    ---     │\n",
            "├──────────────────────────────────────┼────────────┼────────────┤\n",
            "│                  R                   │   1.800    │    ---     │\n",
            "├──────────────────────────────────────┼────────────┼────────────┤\n",
            "│                  F                   │   0.990    │    ---     │\n",
            "├──────────────────────────────────────┼────────────┼────────────┤\n",
            "│ Coef. global de transf de calor (U0) │   34.6.    │ BTU/ft²h°F │\n",
            "├──────────────────────────────────────┼────────────┼────────────┤\n",
            "│  Área total de transf de calor (A0)  │ 1217.369.  │    ft²     │\n",
            "╘══════════════════════════════════════╧════════════╧════════════╛\n"
          ],
          "name": "stdout"
        }
      ]
    },
    {
      "cell_type": "code",
      "metadata": {
        "id": "txxrtC4rQLXj",
        "colab": {
          "base_uri": "https://localhost:8080/"
        },
        "outputId": "18ea229c-7c81-4e48-d3c8-c995dc900440"
      },
      "source": [
        "A0max = (Q/(U0min*Tlm*F))\r\n",
        "print('A0 máx', A0max, 'ft\\u00b2')\r\n",
        "A0min = (Q/(U0max*Tlm*F))\r\n",
        "print('A0 min', A0min, 'ft\\u00b2\\n')\r\n",
        "\r\n",
        "Dop = (3/4)/12\r\n",
        "#BWG = 14\r\n",
        "Dip = 0.6060/12\r\n",
        "Lp = 10\r\n",
        "NTmax = A0max/(pi*Dop*Lp)\r\n",
        "print('No. tubos máximo', NTmax)\r\n",
        "NTmin = A0min/(pi*Dop*Lp)\r\n",
        "print('No. tubos mínimo', NTmin,'\\n')\r\n",
        "\r\n",
        "NTRp = 620\r\n",
        "A0r = pi*Dop*Lp*NTRp\r\n",
        "print('A0 req', A0r, 'ft\\u00b2')\r\n",
        "U0r = (Q/(A0r*Tlm*F))\r\n",
        "print('U0 Necesario', U0r, 'BTU/hft\\u00b2°F\\n')\r\n",
        "\r\n",
        "VTp = ((pi*Dop**2*Lp) - (pi*Dip**2*Lp))*(NTRp/4)\r\n",
        "print('Volumen tubos propuestos  = %.5f' %VTp, 'ft\\u00b3') "
      ],
      "execution_count": null,
      "outputs": [
        {
          "output_type": "stream",
          "text": [
            "A0 máx 4214.311396069424 ft²\n",
            "A0 min 1053.577849017356 ft²\n",
            "\n",
            "No. tubos máximo 2146.3311693214564\n",
            "No. tubos mínimo 536.5827923303641 \n",
            "\n",
            "A0 req 1217.3671532660449 ft²\n",
            "U0 Necesario 34.6182446664751 BTU/hft²°F\n",
            "\n",
            "Volumen tubos propuestos  = 6.60300 ft³\n"
          ],
          "name": "stdout"
        }
      ]
    },
    {
      "cell_type": "markdown",
      "metadata": {
        "id": "BLDi9LzbU-Yp"
      },
      "source": [
        "##**Cálculo del número de tubos**"
      ]
    },
    {
      "cell_type": "code",
      "metadata": {
        "id": "YI5BVrc2SIGW",
        "colab": {
          "base_uri": "https://localhost:8080/"
        },
        "outputId": "6da19058-148f-4e2c-8a36-60e3a6a9f16d"
      },
      "source": [
        "print('+-----------------------------------------------------------------------+')\n",
        "print('+--------------------------- DISEÑO DE TUBOS ---------------------------+')\n",
        "print('+-----------------------------------------------------------------------+')\n",
        "print('+---------------------------------', compuesto[1],'--------------------------------+')\n",
        "\n",
        "\n",
        "# Cálculo del número de tubos (BENCENO EN TUBOS)\n",
        "#-------------------------------------------------------------------------------\n",
        "VEL = 3.5                  # velocidad propuesta [ft/s]  3.1276\n",
        "BWG = 15\n",
        "de = 3/4                 # Diámetro externo en in\n",
        "#-------------------------------------------------------------------------------\n",
        "\n",
        "vel = VEL*3600           # velocidad propuesta [ft/h]\n",
        "FvT = MT/dT\n",
        "AfT = FvT/vel\n",
        "GsT = MT/AfT\n",
        "\n",
        "if de == 0.5:\n",
        "    BWG_Tablas = [12, 14, 16, 18, 20]\n",
        "    X_Tablas = [0.109, 0.083, 0.065, 0.049, 0.035]\n",
        "    n = len(BWG_Tablas)\n",
        "    for i in range(n):\n",
        "        bwg = BWG_Tablas[i]\n",
        "        if bwg == BWG:\n",
        "            X = X_Tablas[i]\n",
        "\n",
        "elif de == 0.75:\n",
        "    BWG_Tablas = [10, 11, 12, 13, 14, 15, 16, 17, 18]\n",
        "    X_Tablas = [0.134, 0.120, 0.109, 0.095, 0.083, 0.072, 0.065, 0.058, 0.049]\n",
        "    n = len(BWG_Tablas)\n",
        "    for i in range(n):\n",
        "        bwg = BWG_Tablas[i]\n",
        "        if bwg == BWG:\n",
        "            X = X_Tablas[i]\n",
        "\n",
        "elif de == 1 or de == 1.25 or de == 1.5:\n",
        "    BWG_Tablas = [8, 9, 10, 11, 12, 13, 14, 15, 16, 17, 18]\n",
        "    X_Tablas = [0.165, 0.148, 0.134, 0.120, 0.109, 0.095, 0.083, 0.072, 0.065, 0.058, 0.049]\n",
        "    n = len(BWG_Tablas)\n",
        "    for i in range(n):\n",
        "        bwg = BWG_Tablas[i]\n",
        "        if bwg == BWG:\n",
        "            X = X_Tablas[i]\n",
        "\n",
        "di = de - 2*X     # Diámetro externo en in\n",
        "\n",
        "\n",
        "Do = de/12        # Diámetro externo en ft\n",
        "x = X/12          # Espesor de la pared en ft a un BWG dado\n",
        "Di = Do - 2*x     # Diámetro interno en ft a un BWG dado\n",
        "\n",
        "\n",
        "Af = (pi/4)*Di**2\n",
        "Ase = pi*Do\n",
        "Asi = pi*Di\n",
        "\n",
        "Notubos = (AfT/Af)\n",
        "L = (A0/(Ase*Notubos))   # ¿Asi o Ase?\n",
        "\n",
        "Datos2 = [['DESCRIPCIÓN', 'VALORES', 'UDS'],\n",
        "          ['Flujo volumético (FvT)', '%.3f.' %FvT,'ft\\u00b3/h'],\n",
        "          ['Área de flujo de fluido (AfT)', '%.5f' %AfT, 'ft\\u00b2'],\n",
        "          ['Masa velocidad (GsT)', '%.3f' %GsT, 'Lb/h*ft\\u00b2']]\n",
        "print(tabulate(Datos2, headers='firstrow', tablefmt='fancy_grid', stralign='center'))\n",
        "\n",
        "Datos3 = [['DESCRIPCIÓN', 'VALORES', 'UDS','VALORES','UDS'],\n",
        "          ['Velocidad (vel)', '%.4f.' %VEL,'ft/s','%.3f.' %vel,'ft/h'],\n",
        "          ['BWG', BWG, '---','---','---'],\n",
        "          ['Diámetro externo (Do)', '%.4f' %de, 'in','%.5f' %Do, 'ft'],\n",
        "          ['Diámetro interno (Di)', '%.4f' %di, 'in','%.5f' %Di, 'ft'],\n",
        "          ['Espesor (x)', '%.4f' %X, 'in','%.5f' %x, 'ft']]\n",
        "print(tabulate(Datos3, headers='firstrow', tablefmt='fancy_grid', stralign='center'))\n",
        "\n",
        "Datos4 = [['DESCRIPCIÓN', 'VALORES', 'UDS'],\n",
        "          ['Área de flujo en la tubería (Af)', '%.5f' %Af,'ft\\u00b2'],\n",
        "          ['Área superficial externa (Ase)', '%.5f' %Ase, 'ft\\u00b2/ft'],\n",
        "          ['Área superficial interna (Asi)', '%.5f' %Asi, 'ft\\u00b2/ft'],\n",
        "          ['Número de tubos por paso (Notubos)', '%.1f.' %Notubos, '---'],\n",
        "          ['Longitud de la tubería (L)', '%.3f' %L, 'ft']]\n",
        "print(tabulate(Datos4, headers='firstrow', tablefmt='fancy_grid', stralign='center'))"
      ],
      "execution_count": null,
      "outputs": [
        {
          "output_type": "stream",
          "text": [
            "+-----------------------------------------------------------------------+\n",
            "+--------------------------- DISEÑO DE TUBOS ---------------------------+\n",
            "+-----------------------------------------------------------------------+\n",
            "+--------------------------------- DESTILADO --------------------------------+\n",
            "╒═══════════════════════════════╤════════════╤══════════╕\n",
            "│          DESCRIPCIÓN          │  VALORES   │   UDS    │\n",
            "╞═══════════════════════════════╪════════════╪══════════╡\n",
            "│    Flujo volumético (FvT)     │ 2552.862.  │  ft³/h   │\n",
            "├───────────────────────────────┼────────────┼──────────┤\n",
            "│ Área de flujo de fluido (AfT) │  0.20261   │   ft²    │\n",
            "├───────────────────────────────┼────────────┼──────────┤\n",
            "│     Masa velocidad (GsT)      │ 644988.919 │ Lb/h*ft² │\n",
            "╘═══════════════════════════════╧════════════╧══════════╛\n",
            "╒═══════════════════════╤═══════════╤═══════╤════════════╤═══════╕\n",
            "│      DESCRIPCIÓN      │  VALORES  │  UDS  │  VALORES   │  UDS  │\n",
            "╞═══════════════════════╪═══════════╪═══════╪════════════╪═══════╡\n",
            "│    Velocidad (vel)    │  3.5000.  │ ft/s  │ 12600.000. │ ft/h  │\n",
            "├───────────────────────┼───────────┼───────┼────────────┼───────┤\n",
            "│          BWG          │    15     │  ---  │    ---     │  ---  │\n",
            "├───────────────────────┼───────────┼───────┼────────────┼───────┤\n",
            "│ Diámetro externo (Do) │  0.7500   │  in   │  0.06250   │  ft   │\n",
            "├───────────────────────┼───────────┼───────┼────────────┼───────┤\n",
            "│ Diámetro interno (Di) │  0.6060   │  in   │  0.05050   │  ft   │\n",
            "├───────────────────────┼───────────┼───────┼────────────┼───────┤\n",
            "│      Espesor (x)      │  0.0720   │  in   │  0.00600   │  ft   │\n",
            "╘═══════════════════════╧═══════════╧═══════╧════════════╧═══════╛\n",
            "╒════════════════════════════════════╤═══════════╤════════╕\n",
            "│            DESCRIPCIÓN             │  VALORES  │  UDS   │\n",
            "╞════════════════════════════════════╪═══════════╪════════╡\n",
            "│  Área de flujo en la tubería (Af)  │  0.00200  │  ft²   │\n",
            "├────────────────────────────────────┼───────────┼────────┤\n",
            "│   Área superficial externa (Ase)   │  0.19635  │ ft²/ft │\n",
            "├────────────────────────────────────┼───────────┼────────┤\n",
            "│   Área superficial interna (Asi)   │  0.15865  │ ft²/ft │\n",
            "├────────────────────────────────────┼───────────┼────────┤\n",
            "│ Número de tubos por paso (Notubos) │  101.2.   │  ---   │\n",
            "├────────────────────────────────────┼───────────┼────────┤\n",
            "│     Longitud de la tubería (L)     │  61.293   │   ft   │\n",
            "╘════════════════════════════════════╧═══════════╧════════╛\n"
          ],
          "name": "stdout"
        }
      ]
    },
    {
      "cell_type": "markdown",
      "metadata": {
        "id": "Wc-pYZlTVZDr"
      },
      "source": [
        "##**Cálculo del número de pasos:**"
      ]
    },
    {
      "cell_type": "code",
      "metadata": {
        "id": "GBytMu48KfwN",
        "colab": {
          "base_uri": "https://localhost:8080/"
        },
        "outputId": "fde3c058-558c-400a-e5b2-5a2af97863fd"
      },
      "source": [
        "LI = L/NopasosT\n",
        "#LI = 5                  # Longitud deseada del intercambiador\n",
        "#Nopasos = (L/LI)\n",
        "if LI > 20:\n",
        "    print('El intercambiador se sale de los límites')\n",
        "\n",
        "print('No. pasos = ', NopasosT)\n",
        "print('Longitud del intercambiador = %.3f' %LI, 'ft')\n",
        "NTT = Notubos*NopasosT\n",
        "print('No. total de tubos = %.3f' %NTT)"
      ],
      "execution_count": null,
      "outputs": [
        {
          "output_type": "stream",
          "text": [
            "No. pasos =  6\n",
            "Longitud del intercambiador = 10.215 ft\n",
            "No. total de tubos = 606.926\n"
          ],
          "name": "stdout"
        }
      ]
    },
    {
      "cell_type": "code",
      "metadata": {
        "id": "7o_nwanpVEwM",
        "colab": {
          "base_uri": "https://localhost:8080/"
        },
        "outputId": "fc7a3eca-76f9-4e6a-ff9d-e71d5dcea296"
      },
      "source": [
        "#---------------------- VALORES OBTENIDOS DEL APÉNDICE Ñ ----------------------#\n",
        "#------------------------------------------------------------------------------#\n",
        "NTTR = 620 #536              # Número de tubos totales reales\n",
        "D = 29 #27                  # Diámetro interno más adecuado para la coraza en in\n",
        "pt = 15/16              # Pitch en pulgadas\n",
        "#------------------------------------------------------------------------------#\n",
        "\n",
        "if 13 <= D <= 29:\n",
        "    placa = 5/16\n",
        "    espesor = placa/12\n",
        "if 30 <= D <= 39:\n",
        "    placa = 3/8\n",
        "    espesor = placa/12\n",
        "\n",
        "Notubos = (NTTR/NopasosT)\n",
        "L = (A0/(Ase*Notubos))  # ¿Asi o Ase?\n",
        "Lt = (L/NopasosT)\n",
        "AfT = (Di**2)*(pi/4)*Notubos\n",
        "Vrealh = FvT/AfT\n",
        "Vreals = Vrealh/3600\n",
        "Ds = D/12               # Diámetro interno más adecuado para la coraza en mLD = round(LC/Ds)\n",
        "Pt = pt/12              # Pitch en metros\n",
        "LD = (Lt/Ds)\n",
        "GsT = MT/AfT\n",
        "\n",
        "Datos5 = [['DESCRIPCIÓN', 'VALORES', 'UDS'],\n",
        "          ['Número de tubos totales reales (NTTR)', '%.1f' %NTTR,'---'],\n",
        "          ['Número de tubos por paso (Notubos)', '%.1f' %Notubos, '---'],\n",
        "          ['Longitud de tubos (L)', '%.2f' %L, 'ft'],\n",
        "          ['Longitud de tubos por paso (Lt)', '%.2f' %Lt, 'ft'],\n",
        "          ['Área de flujo de fluido', '%.4f' %AfT, 'ft\\u00b2'],\n",
        "          ['Velocidad real', '%.3f' %Vreals, 'ft/s'],\n",
        "          ['Masa velocidad (GsT)', '%.3f.' %GsT, 'Lb/ft\\u00b2 h'],\n",
        "          ['Díametro de la coraza', '%.2f.' %D, 'in'],\n",
        "          ['Relación L/D', '%.3f' %LD, '---']]\n",
        "print(tabulate(Datos5, headers='firstrow', tablefmt='fancy_grid', stralign='center'))\n",
        "\n",
        "if 3 <= Vreals <= 10:\n",
        "    print('La valocidad está DENTRO de los límites establecidos \\n')\n",
        "else:\n",
        "    print('La velocidad SALE del rango establecido\\n')\n",
        "\n",
        "if 3 <= LD <= 10:\n",
        "    print('El valor L/D está DENTRO de los límites establecidos')\n",
        "else:\n",
        "    print('El valor L/D SALE del rango establecido')  "
      ],
      "execution_count": null,
      "outputs": [
        {
          "output_type": "stream",
          "text": [
            "╒═══════════════════════════════════════╤═════════════╤══════════╕\n",
            "│              DESCRIPCIÓN              │   VALORES   │   UDS    │\n",
            "╞═══════════════════════════════════════╪═════════════╪══════════╡\n",
            "│ Número de tubos totales reales (NTTR) │    620.0    │   ---    │\n",
            "├───────────────────────────────────────┼─────────────┼──────────┤\n",
            "│  Número de tubos por paso (Notubos)   │    103.3    │   ---    │\n",
            "├───────────────────────────────────────┼─────────────┼──────────┤\n",
            "│         Longitud de tubos (L)         │    60.00    │    ft    │\n",
            "├───────────────────────────────────────┼─────────────┼──────────┤\n",
            "│    Longitud de tubos por paso (Lt)    │    10.00    │    ft    │\n",
            "├───────────────────────────────────────┼─────────────┼──────────┤\n",
            "│        Área de flujo de fluido        │   0.2070    │   ft²    │\n",
            "├───────────────────────────────────────┼─────────────┼──────────┤\n",
            "│            Velocidad real             │    3.426    │   ft/s   │\n",
            "├───────────────────────────────────────┼─────────────┼──────────┤\n",
            "│         Masa velocidad (GsT)          │ 631387.601. │ Lb/ft² h │\n",
            "├───────────────────────────────────────┼─────────────┼──────────┤\n",
            "│         Díametro de la coraza         │   29.00.    │    in    │\n",
            "├───────────────────────────────────────┼─────────────┼──────────┤\n",
            "│             Relación L/D              │    4.138    │   ---    │\n",
            "╘═══════════════════════════════════════╧═════════════╧══════════╛\n",
            "La valocidad está DENTRO de los límites establecidos \n",
            "\n",
            "El valor L/D está DENTRO de los límites establecidos\n"
          ],
          "name": "stdout"
        }
      ]
    },
    {
      "cell_type": "markdown",
      "metadata": {
        "id": "8xMIhF57YllY"
      },
      "source": [
        "##**Calculo del coeficiente global de transferencia de energia**"
      ]
    },
    {
      "cell_type": "markdown",
      "metadata": {
        "id": "5BCs0r8RYuJx"
      },
      "source": [
        "###**Cálculo del coeficiente interno de película**"
      ]
    },
    {
      "cell_type": "code",
      "metadata": {
        "id": "xyD_dgOiYWgs",
        "colab": {
          "base_uri": "https://localhost:8080/"
        },
        "outputId": "f5b6a720-b354-4db8-95c8-ce698715f724"
      },
      "source": [
        "print('+-------------------------------------------------+')\n",
        "print('+---------------- DATOS DE TUBOS -----------------+')\n",
        "print('+-------------------------------------------------+')\n",
        "\n",
        "ReT = (Di*Vrealh*dT)/ muT\n",
        "PrT = (CpT*muT)/kT\n",
        "\n",
        "# Tipo = 1 para un flujo VISCOSO\n",
        "# Tipo = 2 para un flujo LAMINAR\n",
        "# Tipo = 3 para un flujo TURBULENTO\n",
        "Tipo = 3\n",
        "\n",
        "if Tipo == 1: # Nusselt para flujo Viscoso\n",
        "    NuT = 0.0023*(ReT**(0.8))*(PrT**(1/3))*((muT/muT)**(0.14))  \n",
        "\n",
        "elif Tipo == 2: # Nusselt para flujo Laminar\n",
        "    NuT = 2*((MT*CpT)/(kT*L)**(1/2))*((muT/muT)**(0.14))\n",
        "\n",
        "else: # Nusselt para flujo Turbulento\n",
        "    if t2 < t1:\n",
        "        print('El',compuesto[1],'se está enfiando')\n",
        "        e = 0.3\n",
        "    if t2 > t1:\n",
        "        print('El',compuesto[1],'se está calentando')\n",
        "        e = 0.4\n",
        "    NuT = 0.023*(ReT**0.8)*(PrT**e)\n",
        "\n",
        "hi = (NuT*kT)/Di\n",
        "\n",
        "Datos6 = [['DESCRIPCIÓN', 'VALORES', 'UDS'],\n",
        "          ['Reynolds (ReT)', '%.3f.' %ReT,'---'],\n",
        "          ['Prandtl (PrT)', '%.3f.' %PrT, '---'],\n",
        "          ['Nusselt (NuT)', '%.3f.' %NuT, '---'],\n",
        "          ['Coef interno (hi)', '%.3f.' %hi, 'BTU/ft\\u00b2 h °F']]\n",
        "print(tabulate(Datos6, headers='firstrow', tablefmt='fancy_grid', stralign='center'))"
      ],
      "execution_count": null,
      "outputs": [
        {
          "output_type": "stream",
          "text": [
            "+-------------------------------------------------+\n",
            "+---------------- DATOS DE TUBOS -----------------+\n",
            "+-------------------------------------------------+\n",
            "El DESTILADO se está calentando\n",
            "╒═══════════════════╤═══════════╤══════════════╕\n",
            "│    DESCRIPCIÓN    │  VALORES  │     UDS      │\n",
            "╞═══════════════════╪═══════════╪══════════════╡\n",
            "│  Reynolds (ReT)   │ 6276.466. │     ---      │\n",
            "├───────────────────┼───────────┼──────────────┤\n",
            "│   Prandtl (PrT)   │  33.203.  │     ---      │\n",
            "├───────────────────┼───────────┼──────────────┤\n",
            "│   Nusselt (NuT)   │ 101.946.  │     ---      │\n",
            "├───────────────────┼───────────┼──────────────┤\n",
            "│ Coef interno (hi) │ 154.434.  │ BTU/ft² h °F │\n",
            "╘═══════════════════╧═══════════╧══════════════╛\n"
          ],
          "name": "stdout"
        }
      ]
    },
    {
      "cell_type": "markdown",
      "metadata": {
        "id": "DNT8PIIcZu47"
      },
      "source": [
        "###**Cálculo del coeficiente externo de película**"
      ]
    },
    {
      "cell_type": "code",
      "metadata": {
        "id": "5ConveUxY0PF",
        "colab": {
          "base_uri": "https://localhost:8080/"
        },
        "outputId": "aa48466f-fd69-4bf8-ae43-0a966002b942"
      },
      "source": [
        "print('+-----------------------------------------------------------------------+')\n",
        "print('+--------------------------- DISEÑO DE CORAZA --------------------------+')\n",
        "print('+-----------------------------------------------------------------------+')\n",
        "print('+-----------------------------', compuesto[0],'----------------------------+')\n",
        "\n",
        "# Arr = 1 para arreglo cuadrado\n",
        "# Arr = 2 para arreglo triangular\n",
        "Arr = 2\n",
        "\n",
        "if Arr == 1:\n",
        "    De = (4*((Pt**2) - ((pi*(Do**2))/4))) / (pi*Do)\n",
        "else:\n",
        "    De = (4*((0.43*Pt**2) - (0.3927*Do**2)))/(0.5*pi*Do)\n",
        "\n",
        "DE = De*12\n",
        "C = Pt - Do\n",
        "\n",
        "Bmin = Ds/5\n",
        "bb = 27\n",
        "B = bb/12\n",
        "As = (Ds*C*B)/Pt\n",
        "GsC = MC/As\n",
        "velhC = GsC/dC\n",
        "velsC = velhC/3600\n",
        "\n",
        "BB = B*12\n",
        "if 6 <= D <= 14:\n",
        "    if BB <= 24:\n",
        "        espin = 1/8\n",
        "        espft = espin/12\n",
        "    if 25 <= BB <= 36:\n",
        "        espin = 3/16\n",
        "        espft = espin/12\n",
        "    if 37 <= BB <= 48:\n",
        "        espin = 1/4\n",
        "        espft = espin/12\n",
        "if 15 <= D <= 28:\n",
        "    if BB <= 24:\n",
        "        espin = 3/16\n",
        "        espft = espin/12\n",
        "    if 25 <= BB <= 36:\n",
        "        espin = 1/4\n",
        "        espft = espin/12\n",
        "    if 37 <= BB <= 48:\n",
        "        espin = 3/8\n",
        "        espft = espin/12\n",
        "if 29 <= D <= 38:\n",
        "    if BB <= 24:\n",
        "        espin = 5/15\n",
        "        espft = espin/12\n",
        "    if 25 <= BB <= 36:\n",
        "        espin = 5/16\n",
        "        espft = espin/12\n",
        "    if 37 <= BB <= 48:\n",
        "        espin = 3/8\n",
        "        espft = espin/12\n",
        "if 39 <= D <= 60:\n",
        "    if BB <= 24:\n",
        "        espin = 3/8\n",
        "        espft = espin/12\n",
        "    if 25 <= BB <= 36:\n",
        "        espin = 3/8\n",
        "        espft = espin/12\n",
        "    if 37 <= BB <= 48:\n",
        "        espin = 1/2\n",
        "        espft = espin/12\n",
        "\n",
        "Datos7 = [['DESCRIPCIÓN', 'VALORES', 'UDS','VALORES','UDS'],\n",
        "          ['Velocidad (vel)', '%.4f.' %velsC,'ft/s','%.3f.' %velhC,'ft/h'],\n",
        "          ['Diámetro interno', '%.4f.' %D,'in','%.3f.' %(D/12),'ft'],\n",
        "          ['Diámetro equivalente (De)', '%.4f' %DE, 'in','%.5f' %De, 'ft'],\n",
        "          ['Pitch (Pt)', '%.4f' %pt, 'in','%.5f' %Pt, 'ft'],\n",
        "          ['Claro (C)', '%.4f' %(C*12), 'in','%.5f' %C, 'ft'],\n",
        "          ['Distancia entre mamparas (B)', '%.4f' %bb, 'in','%.5f' %B, 'ft'],\n",
        "          ['Área de flujo entre tubos (As)', '%.4f' %(As*144), 'in\\u00b2','%.5f' %As, 'ft\\u00b2']]\n",
        "print(tabulate(Datos7, headers='firstrow', tablefmt='fancy_grid', stralign='center'))\n",
        "\n",
        "if B < Bmin:\n",
        "    print('B es MENOR a la distancia mínima(%.5f'%(Bmin*12),'in)\\n')\n",
        "else: \n",
        "    print('B es MAYOR a la distancia mínima(%.5f'%(Bmin*12),'in)\\n')\n",
        "\n",
        "print('+-------------------------------------------------------+')\n",
        "print('+------------------- DATOS DE CORAZA -------------------+')\n",
        "print('+-------------------------------------------------------+')\n",
        "print('+---------------------', compuesto[0],'--------------------+')\n",
        "\n",
        "ReC = (GsC*De)/muC\n",
        "PrC = (CpC*muC)/kC\n",
        "FvC = (MC/dC)\n",
        "\n",
        "if 2000 < ReC < 1000000:\n",
        "    PrC = (CpC*muC)/kC\n",
        "    NuC = 0.36*((ReC)**0.55)*((PrC)**(1/3))\n",
        "    ho = (NuC*kC)/Do\n",
        "else:\n",
        "    print('El número de Reynolds se sale de los límites establecidos')\n",
        "\n",
        "Datos6 = [['DESCRIPCIÓN', 'VALORES', 'UDS'],\n",
        "          ['Flujo volumétrico (FvC)', '%.3f.' %FvC,'ft\\u00b3/h'],\n",
        "          ['Masa velocidad (GsC)', '%.4f' %GsC, 'Lb/h ft\\u00b2'],\n",
        "          ['Reynolds (ReC)', '%.3f.' %ReC,'---'],\n",
        "          ['Prandtl (PrC)', '%.3f.' %PrC, '---'],\n",
        "          ['Nusselt (NuT)', '%.3f.' %NuC, '---'],\n",
        "          ['Coef externo (ho)', '%.3f.' %ho, 'BTU/ft\\u00b2 h °F']]\n",
        "print(tabulate(Datos6, headers='firstrow', tablefmt='fancy_grid', stralign='center'))"
      ],
      "execution_count": null,
      "outputs": [
        {
          "output_type": "stream",
          "text": [
            "+-----------------------------------------------------------------------+\n",
            "+--------------------------- DISEÑO DE CORAZA --------------------------+\n",
            "+-----------------------------------------------------------------------+\n",
            "+----------------------------- KEROSENO ----------------------------+\n",
            "╒════════════════════════════════╤═══════════╤═══════╤═══════════╤═══════╕\n",
            "│          DESCRIPCIÓN           │  VALORES  │  UDS  │  VALORES  │  UDS  │\n",
            "╞════════════════════════════════╪═══════════╪═══════╪═══════════╪═══════╡\n",
            "│        Velocidad (vel)         │  0.3434.  │ ft/s  │ 1236.084. │ ft/h  │\n",
            "├────────────────────────────────┼───────────┼───────┼───────────┼───────┤\n",
            "│        Diámetro interno        │ 29.0000.  │  in   │  2.417.   │  ft   │\n",
            "├────────────────────────────────┼───────────┼───────┼───────────┼───────┤\n",
            "│   Diámetro equivalente (De)    │  0.5332   │  in   │  0.04443  │  ft   │\n",
            "├────────────────────────────────┼───────────┼───────┼───────────┼───────┤\n",
            "│           Pitch (Pt)           │  0.9375   │  in   │  0.07812  │  ft   │\n",
            "├────────────────────────────────┼───────────┼───────┼───────────┼───────┤\n",
            "│           Claro (C)            │  0.1875   │  in   │  0.01562  │  ft   │\n",
            "├────────────────────────────────┼───────────┼───────┼───────────┼───────┤\n",
            "│  Distancia entre mamparas (B)  │  27.0000  │  in   │  2.25000  │  ft   │\n",
            "├────────────────────────────────┼───────────┼───────┼───────────┼───────┤\n",
            "│ Área de flujo entre tubos (As) │ 156.6000  │  in²  │  1.08750  │  ft²  │\n",
            "╘════════════════════════════════╧═══════════╧═══════╧═══════════╧═══════╛\n",
            "B es MAYOR a la distancia mínima(5.80000 in)\n",
            "\n",
            "+-------------------------------------------------------+\n",
            "+------------------- DATOS DE CORAZA -------------------+\n",
            "+-------------------------------------------------------+\n",
            "+--------------------- KEROSENO --------------------+\n",
            "╒═════════════════════════╤════════════╤══════════════╕\n",
            "│       DESCRIPCIÓN       │  VALORES   │     UDS      │\n",
            "╞═════════════════════════╪════════════╪══════════════╡\n",
            "│ Flujo volumétrico (FvC) │ 1344.242.  │    ft³/h     │\n",
            "├─────────────────────────┼────────────┼──────────────┤\n",
            "│  Masa velocidad (GsC)   │ 55172.4138 │   Lb/h ft²   │\n",
            "├─────────────────────────┼────────────┼──────────────┤\n",
            "│     Reynolds (ReC)      │ 3166.807.  │     ---      │\n",
            "├─────────────────────────┼────────────┼──────────────┤\n",
            "│      Prandtl (PrC)      │   6.244.   │     ---      │\n",
            "├─────────────────────────┼────────────┼──────────────┤\n",
            "│      Nusselt (NuT)      │  55.822.   │     ---      │\n",
            "├─────────────────────────┼────────────┼──────────────┤\n",
            "│    Coef externo (ho)    │  66.987.   │ BTU/ft² h °F │\n",
            "╘═════════════════════════╧════════════╧══════════════╛\n"
          ],
          "name": "stdout"
        }
      ]
    },
    {
      "cell_type": "markdown",
      "metadata": {
        "id": "huEMqo1Zau9k"
      },
      "source": [
        "##**Obtención del coeficiente global de transferencia de calor**"
      ]
    },
    {
      "cell_type": "code",
      "metadata": {
        "id": "wWyjEhfqaHhF",
        "colab": {
          "base_uri": "https://localhost:8080/"
        },
        "outputId": "ec300c1d-a88f-463d-9275-38f5cdbc17f1"
      },
      "source": [
        "Dw = (Do-Di)/log(Do/Di)\n",
        "Do1 = Do/(Di*hi)\n",
        "Do2 = (Do/Di)*hdi\n",
        "xDo = (x*Do)/(kw*Dw)\n",
        "hoinv = 1/ho\n",
        "\n",
        "U0 = 1 / (Do1 + Do2 + xDo + hdo + hoinv)\n",
        "print('+-------------------------------+')\n",
        "print('+   Uo = %.3f' %U0,'BTU/ft\\u00b2 h°F   +')\n",
        "print('+-------------------------------+')\n",
        "print( )\n",
        "if U0 <= U0max and U0 >= U0min:\n",
        "    print('Uo está DENTRO de los límites establecidos')\n",
        "else:\n",
        "    print('Uo está FUERA de los límites establecido')"
      ],
      "execution_count": null,
      "outputs": [
        {
          "output_type": "stream",
          "text": [
            "+-------------------------------+\n",
            "+   Uo = 37.497 BTU/ft² h°F   +\n",
            "+-------------------------------+\n",
            "\n",
            "Uo está DENTRO de los límites establecidos\n"
          ],
          "name": "stdout"
        }
      ]
    },
    {
      "cell_type": "markdown",
      "metadata": {
        "id": "DJtX1diqhbSS"
      },
      "source": [
        "## **Caída de presión**"
      ]
    },
    {
      "cell_type": "markdown",
      "metadata": {
        "id": "DAz3XiW4kpXH"
      },
      "source": [
        "### **Caída de presión en los tubos**"
      ]
    },
    {
      "cell_type": "code",
      "metadata": {
        "id": "mwe2DSkcg2g2",
        "colab": {
          "base_uri": "https://localhost:8080/"
        },
        "outputId": "8640674e-7e3b-4bb8-df68-7d77d92872cf"
      },
      "source": [
        "# Del apéndice Q:\n",
        "FD = 0.0003\n",
        "\n",
        "#-------------------------------------------------------------------------------\n",
        "# TubosT = 1, tubos lineales\n",
        "# TubosT = 2, tubos con retorno\n",
        "TubosT = 2\n",
        "#-------------------------------------------------------------------------------\n",
        "if TubosT == 1:\n",
        "    dPT = (FD*(Vreals**2)*LI*NopasosT*dT)/(2*g*Di)\n",
        "\n",
        "if TubosT == 2:\n",
        "    dPL = (FD*(Vreals**2)*LI*NopasosT*dT)/(2*g*Di)\n",
        "    dPr = (4*NopasosT*(Vreals**2)*dT)/(2*g*144)\n",
        "    dPT = dPL+dPr\n",
        "\n",
        "print('Caída de presión totale en los tubos = %.5f' %dPT, 'psi') #(Lb/in^2)\n",
        "if dPT < 10:\n",
        "    print('La caída de presión en los tubos está DENTRO del límite permitido')\n",
        "else:\n",
        "    print('La caída de presión en los tubos está FUERA del límite permitido')"
      ],
      "execution_count": null,
      "outputs": [
        {
          "output_type": "stream",
          "text": [
            "Caída de presión totale en los tubos = 4.95878 psi\n",
            "La caída de presión en los tubos está DENTRO del límite permitido\n"
          ],
          "name": "stdout"
        }
      ]
    },
    {
      "cell_type": "markdown",
      "metadata": {
        "id": "WFpYhNGCeaaR"
      },
      "source": [
        "### **Caída de presión en la coraza**"
      ]
    },
    {
      "cell_type": "code",
      "metadata": {
        "id": "lF_y-Iher8Q2",
        "colab": {
          "base_uri": "https://localhost:8080/"
        },
        "outputId": "ec208214-963b-4393-ebdd-9b1016300980"
      },
      "source": [
        "Fs = 0.0025\n",
        "n = Lt/B\n",
        "\n",
        "dPs = (Fs*((GsC/3600)**2)*Ds*n)/(2*g*De*dC)\n",
        "print('Caída de presión total en la coraza = %.5f' %dPs, 'psi')\n",
        "if dPs < 10:\n",
        "    print('La caída de presión en la coraza está DENTRO del límite permitido')\n",
        "else:\n",
        "    print('La caída de presión en la coraza está FUERA del límite permitido')"
      ],
      "execution_count": null,
      "outputs": [
        {
          "output_type": "stream",
          "text": [
            "Caída de presión total en la coraza = 0.04944 psi\n",
            "La caída de presión en la coraza está DENTRO del límite permitido\n"
          ],
          "name": "stdout"
        }
      ]
    },
    {
      "cell_type": "markdown",
      "metadata": {
        "id": "MfFzNBxwdq7y"
      },
      "source": [
        "### **Cálculo del volumen y peso total del equipo**"
      ]
    },
    {
      "cell_type": "code",
      "metadata": {
        "id": "CrOi7Td8gRYF",
        "colab": {
          "base_uri": "https://localhost:8080/"
        },
        "outputId": "53afc14a-6b64-4f38-dbb4-8b7a0593922e"
      },
      "source": [
        "VTubos = ((pi*Do**2*Lt) - (pi*Di**2*Lt))*(NTTR/4)\n",
        "print('Volumen tubos  = %.5f' %VTubos, 'ft\\u00b3') \n",
        "ACoraza = (pi*Lt*Ds*espesor) + (pi*Ds**2)\n",
        "dext = Ds + 2*espesor\n",
        "VCoraza = ((pi*dext**2*Lt) - (pi*Ds**2*Lt))*(1/4)\n",
        "print('Volumen coraza = %.5f' %VCoraza, 'ft\\u00b3')\n",
        "VCabezal = ((pi*dext**3) - (pi*Ds**3))*(1/6)\n",
        "print('Volumen cabezal = %.5f' %VCabezal, 'ft\\u00b3')\n",
        "VMamparas = (pi*Ds**2*espft - pi*Do**2*espft*NTTR)*(n*0.75/4)\n",
        "print('Volumen mampar = %.5f' %VMamparas, 'ft\\u00b3')\n",
        "VTotalI = VTubos+VCoraza+VCabezal+VMamparas\n",
        "print('Volumen Total  = %.5f' %VTotalI, 'ft\\u00b3')\n",
        "masaT = dM*VTotalI\n",
        "print('El peso total del intercambiador es de %.5f' %masaT, 'lb')"
      ],
      "execution_count": null,
      "outputs": [
        {
          "output_type": "stream",
          "text": [
            "Volumen tubos  = 6.60301 ft³\n",
            "Volumen coraza = 1.99844 ft³\n",
            "Volumen cabezal = 0.48818 ft³\n",
            "Volumen mampar = 0.23306 ft³\n",
            "Volumen Total  = 9.32268 ft³\n",
            "El peso total del intercambiador es de 4388.24946 lb\n"
          ],
          "name": "stdout"
        }
      ]
    },
    {
      "cell_type": "code",
      "metadata": {
        "id": "m6xTpUM7dtjS",
        "colab": {
          "base_uri": "https://localhost:8080/"
        },
        "outputId": "f92442f4-9cc6-4994-993c-4e920be1b68b"
      },
      "source": [
        "masat = dM*VTubos\n",
        "print('El peso los tubos es de %.6f' %masat, 'lb')\n",
        "masaco = dM*VCoraza\n",
        "print('El peso los coraza es de %.6f' %masaco, 'lb')\n",
        "masaca = dM*VCabezal\n",
        "print('El peso los cabezal es de %.6f' %masaca, 'lb')\n",
        "masade = dM*VMamparas\n",
        "print('El peso los deflectores es de %.6f' %masade, 'lb\\n')\n",
        "print('El precio del intercambiador es de $%.2f' %(masaT*7.07), '(MXN)')"
      ],
      "execution_count": null,
      "outputs": [
        {
          "output_type": "stream",
          "text": [
            "El peso los tubos es de 3108.080747 lb\n",
            "El peso los coraza es de 940.678667 lb\n",
            "El peso los cabezal es de 229.788771 lb\n",
            "El peso los deflectores es de 109.701273 lb\n",
            "\n",
            "El precio del intercambiador es de $31024.92 (MXN)\n"
          ],
          "name": "stdout"
        }
      ]
    },
    {
      "cell_type": "code",
      "metadata": {
        "id": "IDASGPmtUAVv"
      },
      "source": [
        ""
      ],
      "execution_count": null,
      "outputs": []
    }
  ]
}