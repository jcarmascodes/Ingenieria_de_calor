{
  "nbformat": 4,
  "nbformat_minor": 0,
  "metadata": {
    "kernelspec": {
      "display_name": "Python 3 (system-wide)",
      "language": "python",
      "metadata": {
        "cocalc": {
          "description": "Python 3 programming language",
          "priority": 100,
          "url": "https://www.python.org/"
        }
      },
      "name": "python3"
    },
    "language_info": {
      "codemirror_mode": {
        "name": "ipython",
        "version": 3
      },
      "file_extension": ".py",
      "mimetype": "text/x-python",
      "name": "python",
      "nbconvert_exporter": "python",
      "pygments_lexer": "ipython3",
      "version": "3.8.2"
    },
    "colab": {
      "name": "Propiedades_Proyecto.ipynb",
      "provenance": [],
      "collapsed_sections": []
    }
  },
  "cells": [
    {
      "cell_type": "code",
      "metadata": {
        "id": "useng8lTT0cl",
        "colab": {
          "base_uri": "https://localhost:8080/"
        },
        "outputId": "2fe126bd-aaef-4fbe-e6fa-2aa46fe9e1ff"
      },
      "source": [
        "from  math import *\n",
        "import numpy as np\n",
        "\n",
        "# Datos de los elementos\n",
        "\n",
        "# Etilenglicol\n",
        "tm0 = (250+130)/2                       # °F\n",
        "\n",
        "# Agua\n",
        "tm1 = (90+120)/2                        # °F\n",
        "\n",
        "# Etilenglicol\n",
        "Tm0 = (tm0-32)*(5/9)                    # °C\n",
        "\n",
        "# Agua\n",
        "Tm1 = (tm1-32)*(5/9)                    # °C\n",
        "\n",
        "Elemen = ['Elilenglicol', 'Agua']\n",
        "T = np.array([Tm0+273.15, Tm1+273.15])  # K\n",
        "pm = np.array([62.068, 18.01528])       # g/mol\n",
        "print(tm0)\n",
        "print(tm1)"
      ],
      "execution_count": 2,
      "outputs": [
        {
          "output_type": "stream",
          "text": [
            "190.0\n",
            "105.0\n"
          ],
          "name": "stdout"
        }
      ]
    },
    {
      "cell_type": "markdown",
      "metadata": {
        "id": "ty1V5SO21d1X"
      },
      "source": [
        "Densidad\n",
        "\\begin{equation}\n",
        "\\rho = \\frac{C1}{C2^{[1+(1-\\frac{T}{C3})^{C4}]}} = \\left[ \\frac{mol}{dm^3} \\right]\n",
        "\\end{equation}\n",
        "\n",
        "Para el agua:\n",
        "\\begin{equation}\n",
        "\\rho = 17.863 + 58.606\\tau^{0.35} - 95.396\\tau^{2/3} + 213.89\\tau - 141.26\\tau^{4/3}\n",
        "\\end{equation}\n",
        "\n",
        "donde : $\\tau=1-\\frac{T}{647.096}$"
      ]
    },
    {
      "cell_type": "code",
      "metadata": {
        "id": "tFeI1HNYxpuz",
        "colab": {
          "base_uri": "https://localhost:8080/"
        },
        "outputId": "ef4044c8-2920-487e-df09-6bf3029cfbef"
      },
      "source": [
        "C1 = np.array([1.315])\n",
        "C2 = np.array([0.25125])\n",
        "C3 = np.array([720])\n",
        "C4 = np.array([0.21868])\n",
        "\n",
        "# Cuando se está manejando AGUA\n",
        "c1 = -13.851\n",
        "c2 = 0.64038\n",
        "c3 = -0.00191\n",
        "c4 = 1.8211e-6\n",
        "tao = 1 - (T[1]/647.096)\n",
        "RHO = 17.863 + (58.606*tao**0.35) - (95.396*tao**(2/3)) + (213.89*tao) - (141.26*tao**(4/3))\n",
        "\n",
        "n = len(pm)\n",
        "rho = np.zeros(n)\n",
        "densidad = np.zeros(n)\n",
        "dens = np.zeros(n)\n",
        "print('{:^20}{:^20}{:^20}'.format('Elemento', 'Densidad [kg/m\\u00b3]','Densidad [lb/ft\\u00b3]'))\n",
        "for i in range(n):\n",
        "    rho[0] = C1[0]/(C2[0]**(1 + ((1-(T[0]/C3[0]))**C4[0]) ) )    # [mol/dm^3] Benceno\n",
        "    rho[1] = RHO\n",
        "    densidad[i] = rho[i]*pm[i]                          # [kg/m^3]\n",
        "    dens[i] = densidad[i]*0.062427960576                # [lb/ft^3]\n",
        "    print('{:^20}{:^20.4f}{:^20.4f}'.format(Elemen[i], densidad[i], dens[i]))"
      ],
      "execution_count": 3,
      "outputs": [
        {
          "output_type": "stream",
          "text": [
            "      Elemento        Densidad [kg/m³]   Densidad [lb/ft³]  \n",
            "    Elilenglicol         1063.9379            66.4195       \n",
            "        Agua              988.5844            61.7153       \n"
          ],
          "name": "stdout"
        }
      ]
    },
    {
      "cell_type": "markdown",
      "metadata": {
        "id": "pkTQBZ7h0wnv"
      },
      "source": [
        "Capacidad calorífica\n",
        "\\begin{equation}\n",
        "Cp = C1 + C2T + C3T^2 + C4T^3 + C5T^4 = \\left[ \\frac{J}{kmol \\cdot K} \\right]\n",
        "\\end{equation}"
      ]
    },
    {
      "cell_type": "code",
      "metadata": {
        "id": "vALpJLl3xpuu",
        "colab": {
          "base_uri": "https://localhost:8080/"
        },
        "outputId": "1f5a8dd5-c96b-4fa8-e580-eeacd1541ee7"
      },
      "source": [
        "C1 = np.array([35540, 276370])\n",
        "C2 = np.array([436.78, -2090.1])\n",
        "C3 = np.array([-0.18486, 8.125])\n",
        "C4 = np.array([0, -0.014116])\n",
        "C5 = np.array([0, 9.3701e-6])\n",
        "\n",
        "n = len(pm)\n",
        "Cp = np.zeros(n)          # Capacidad calorífica\n",
        "cp = np.zeros(n)          # Calor específico\n",
        "print('{:^20}{:^20}{:^35}'.format('Elemento', 'Calor específico [kcal/kg*K]', 'Btu/lb°F'))\n",
        "for i in range(n):\n",
        "    Cp[i] = (C1[i] + C2[i]*T[i] + C3[i]*T[i]**2 + C4[i]*T[i]**3 + C5[i]*T[i]**4)/4184    # Kcal/kmol K\n",
        "    cp[i] = Cp[i]/pm[i]\n",
        "    print('{:^20}{:^30.4f}{:^30.4f}'.format(Elemen[i], Cp[i], cp[i]))"
      ],
      "execution_count": 4,
      "outputs": [
        {
          "output_type": "stream",
          "text": [
            "      Elemento      Calor específico [kcal/kg*K]             Btu/lb°F              \n",
            "    Elilenglicol               40.4170                        0.6512            \n",
            "        Agua                   17.9830                        0.9982            \n"
          ],
          "name": "stdout"
        }
      ]
    },
    {
      "cell_type": "markdown",
      "metadata": {
        "id": "efdb4PTJHQMx"
      },
      "source": [
        "Viscosidad dinámica \n",
        "\\begin{equation}\n",
        "\\mu = e^{C1 + \\frac{C2}{T} + C3LnT + C4T^{C5}} = [Pa \\cdot s]\n",
        "\\end{equation}"
      ]
    },
    {
      "cell_type": "code",
      "metadata": {
        "id": "SyD42V_HHPvD",
        "colab": {
          "base_uri": "https://localhost:8080/"
        },
        "outputId": "f7f151ed-7d29-410c-c7b2-0fe08a4c1526"
      },
      "source": [
        "C1 = np.array([-20.515, -52.843])\n",
        "C2 = np.array([2468.5, 3703.6])\n",
        "C3 = np.array([1.2435, 5.866])\n",
        "C4 = np.array([2.4998e12, -5.879e-29])\n",
        "C5 = np.array([-5, 10])\n",
        "\n",
        "n = len(pm)\n",
        "mu = np.zeros(n)\n",
        "print('{:^20}{:^20}{:^30}{:^30}'.format('Elemento', 'Viscosidad [kg/m*s]', 'Viscosidad [kg/m*h]', 'viscosidad[lb/ft*h]'))\n",
        "for i in range(n):\n",
        "    mu[i] = exp(C1[i] + (C2[i]/T[i]) + C3[i]*log(T[i]) + C4[i]*T[i]**C5[i])  # Pa*s = kg/m*s\n",
        "    MU = mu[i]*3600\n",
        "    vis = MU*(0.671968975)\n",
        "    print('{:^20}{:^20.4E}{:^30.4f}{:^30.4f}'.format(Elemen[i], mu[i], MU, vis))"
      ],
      "execution_count": 5,
      "outputs": [
        {
          "output_type": "stream",
          "text": [
            "      Elemento      Viscosidad [kg/m*s]      Viscosidad [kg/m*h]           viscosidad[lb/ft*h]      \n",
            "    Elilenglicol         2.6190E-03                 9.4283                        6.3355            \n",
            "        Agua             6.6406E-04                 2.3906                        1.6064            \n"
          ],
          "name": "stdout"
        }
      ]
    },
    {
      "cell_type": "markdown",
      "metadata": {
        "id": "sRFUvhSGXIHc"
      },
      "source": [
        "Conductividad térmica\n",
        "\\begin{equation}\n",
        "Cp = C1 + C2T + C3T^2 + C4T^3 + C5T^4 = \\left[ \\frac{W}{m \\cdot K} \\right]\n",
        "\\end{equation}"
      ]
    },
    {
      "cell_type": "code",
      "metadata": {
        "id": "PAN5pwFAXHJ0",
        "colab": {
          "base_uri": "https://localhost:8080/"
        },
        "outputId": "704a433b-02cf-48ba-cc4a-bb82e558754e"
      },
      "source": [
        "C1 = np.array([0.088067, -0.432])\n",
        "C2 = np.array([9.4712e-4, 5.7255e-3])\n",
        "C3 = np.array([-1.3114e-6, -8.078e-6])\n",
        "C4 = np.array([0, 1.86e-9])\n",
        "C5 = np.array([0, 0])\n",
        "\n",
        "n = len(pm)\n",
        "kw = np.zeros(n)\n",
        "kkc = np.zeros(n)\n",
        "print('{:^20}{:^20}{:^30}{:^30}'.format('Elemento', ' K [W/m*K]', 'K [kcal/m*h*°C]','K [BTU/ft*h*°F]'))\n",
        "for i in range(n):\n",
        "    kw[i] = (C1[i] + C2[i]*T[i] + C3[i]*T[i]**2 + C4[i]*T[i]**3 + C5[i]*T[i]**4)    # Kcal/m s K\n",
        "    kkc[i] = (kw[i]/4186.8)*3600                                                    # Kcal/m h°C\n",
        "    btu = kw[i]*0.5781759824\n",
        "    print('{:^20}{:^20.4E}{:^30.4f}{:^30.4f}'.format(Elemen[i], kw[i], kkc[i], btu))"
      ],
      "execution_count": 6,
      "outputs": [
        {
          "output_type": "stream",
          "text": [
            "      Elemento            K [W/m*K]            K [kcal/m*h*°C]               K [BTU/ft*h*°F]        \n",
            "    Elilenglicol         2.5907E-01                 0.2228                        0.1498            \n",
            "        Agua             6.2658E-01                 0.5388                        0.3623            \n"
          ],
          "name": "stdout"
        }
      ]
    },
    {
      "cell_type": "code",
      "metadata": {
        "id": "-ylWCNfINlEU"
      },
      "source": [
        ""
      ],
      "execution_count": 6,
      "outputs": []
    }
  ]
}